{
 "cells": [
  {
   "cell_type": "markdown",
   "metadata": {},
   "source": [
    "## Build Deep Convolutional Neural Network from Scratch\n",
    "* 4 Convolution Layers, Followed by ReLU\n",
    "* 2 Max Pooling Layers\n",
    "* 2 Fully Connected Layers"
   ]
  },
  {
   "cell_type": "code",
   "execution_count": 1,
   "metadata": {},
   "outputs": [],
   "source": [
    "import torch\n",
    "import torch.nn as nn\n",
    "import torch.nn.functional as F"
   ]
  },
  {
   "cell_type": "code",
   "execution_count": 7,
   "metadata": {},
   "outputs": [],
   "source": [
    "# define deep CNN architecture\n",
    "class DeepCNN(nn.Module):\n",
    " def __init__(self):\n",
    "  super(DeepCNN, self).__init__()\n",
    "  \n",
    "  # original concolutional layers\n",
    "  self.conv1_in_channels = 3\n",
    "  self.conv1_out_channels = 8\n",
    "  self.conv1_kernel_size = 3\n",
    "  self.conv1 = nn.Conv2d(self.conv1_in_channels, self.conv1_out_channels, kernel_size=self.conv1_kernel_size)\n",
    "  \n",
    "  self.conv2_in_channels = self.conv1_out_channels\n",
    "  self.conv2_out_channels = 16\n",
    "  self.conv2_kernel_size = 2\n",
    "  self.conv2 = nn.Conv2d(self.conv2_in_channels, self.conv2_out_channels, kernel_size=self.conv2_kernel_size)\n",
    "  \n",
    "  self.pool1 = nn.MaxPool2d(kernel_size=2, stride=2)\n",
    "  \n",
    "  # 2 additional convolutional layers\n",
    "  self.conv3_in_channels = self.conv2_out_channels\n",
    "  self.conv3_out_channels = 32\n",
    "  self.conv3_kernel_size = 2\n",
    "  self.conv3 = nn.Conv2d(self.conv3_in_channels, self.conv3_out_channels, kernel_size=self.conv3_kernel_size)\n",
    "  \n",
    "  self.pool2 = nn.MaxPool2d(kernel_size=2, stride=2)\n",
    "  \n",
    "  self.conv4_in_channels = self.conv3_out_channels\n",
    "  self.conv4_out_channels = 64\n",
    "  self.conv4_kernel_size = 1\n",
    "  self.conv4 = nn.Conv2d(self.conv4_in_channels, self.conv4_out_channels, kernel_size=self.conv4_kernel_size)\n",
    "  \n",
    "  # fully connected layers\n",
    "  self.fc1_in_features = self.conv4_out_channels * 6 * 6 # 6x6 image dimension - found using model summary - look at tbe last conv layer output\n",
    "  self.fc1_out_features = 100\n",
    "  self.fc1 = nn.Linear(self.fc1_in_features, self.fc1_out_features)\n",
    "  \n",
    "  self.fc2_in_features = self.fc1_out_features\n",
    "  self.fc2_out_features = 10\n",
    "  self.fc2 = nn.Linear(self.fc2_in_features, self.fc2_out_features)\n",
    "  \n",
    " def forward(self, x):\n",
    "  x = self.conv1(x)\n",
    "  x = F.relu(x)\n",
    "  \n",
    "  x = self.conv2(x)\n",
    "  x = F.relu(x)\n",
    "  x = self.pool1(x)\n",
    "  \n",
    "  # additional convolutional layer\n",
    "  x = self.conv3(x)\n",
    "  x = F.relu(x)\n",
    "  x = self.pool2(x)\n",
    "  \n",
    "  x = self.conv4(x)\n",
    "  x = F.relu(x)\n",
    "  \n",
    "  # flatten layer: reshape the fully connected layer\n",
    "  x = x.view(-1, self.fc1_in_features)\n",
    "  \n",
    "  # fully connected layers\n",
    "  x = self.fc1(x)\n",
    "  x = F.relu(x)\n",
    "  x = self.fc2(x)\n",
    "  \n",
    "  return x"
   ]
  },
  {
   "cell_type": "code",
   "execution_count": 8,
   "metadata": {},
   "outputs": [
    {
     "name": "stdout",
     "output_type": "stream",
     "text": [
      "DeepCNN(\n",
      "  (conv1): Conv2d(3, 8, kernel_size=(3, 3), stride=(1, 1))\n",
      "  (conv2): Conv2d(8, 16, kernel_size=(2, 2), stride=(1, 1))\n",
      "  (pool1): MaxPool2d(kernel_size=2, stride=2, padding=0, dilation=1, ceil_mode=False)\n",
      "  (conv3): Conv2d(16, 32, kernel_size=(2, 2), stride=(1, 1))\n",
      "  (pool2): MaxPool2d(kernel_size=2, stride=2, padding=0, dilation=1, ceil_mode=False)\n",
      "  (conv4): Conv2d(32, 64, kernel_size=(1, 1), stride=(1, 1))\n",
      "  (fc1): Linear(in_features=2304, out_features=100, bias=True)\n",
      "  (fc2): Linear(in_features=100, out_features=10, bias=True)\n",
      ")\n"
     ]
    }
   ],
   "source": [
    "model = DeepCNN()\n",
    "print(model)"
   ]
  },
  {
   "cell_type": "code",
   "execution_count": 9,
   "metadata": {},
   "outputs": [],
   "source": [
    "device = torch.device('cuda' if torch.cuda.is_available() else 'cpu')\n",
    "\n",
    "model = model.to(device)"
   ]
  },
  {
   "cell_type": "code",
   "execution_count": 10,
   "metadata": {},
   "outputs": [
    {
     "name": "stdout",
     "output_type": "stream",
     "text": [
      "==========================================================================================\n",
      "Layer (type:depth-idx)                   Output Shape              Param #\n",
      "==========================================================================================\n",
      "├─Conv2d: 1-1                            [-1, 8, 30, 30]           224\n",
      "├─Conv2d: 1-2                            [-1, 16, 29, 29]          528\n",
      "├─MaxPool2d: 1-3                         [-1, 16, 14, 14]          --\n",
      "├─Conv2d: 1-4                            [-1, 32, 13, 13]          2,080\n",
      "├─MaxPool2d: 1-5                         [-1, 32, 6, 6]            --\n",
      "├─Conv2d: 1-6                            [-1, 64, 6, 6]            2,112\n",
      "├─Linear: 1-7                            [-1, 100]                 230,500\n",
      "├─Linear: 1-8                            [-1, 10]                  1,010\n",
      "==========================================================================================\n",
      "Total params: 236,454\n",
      "Trainable params: 236,454\n",
      "Non-trainable params: 0\n",
      "Total mult-adds (M): 1.28\n",
      "==========================================================================================\n",
      "Input size (MB): 0.01\n",
      "Forward/backward pass size (MB): 0.22\n",
      "Params size (MB): 0.90\n",
      "Estimated Total Size (MB): 1.13\n",
      "==========================================================================================\n"
     ]
    },
    {
     "data": {
      "text/plain": [
       "==========================================================================================\n",
       "Layer (type:depth-idx)                   Output Shape              Param #\n",
       "==========================================================================================\n",
       "├─Conv2d: 1-1                            [-1, 8, 30, 30]           224\n",
       "├─Conv2d: 1-2                            [-1, 16, 29, 29]          528\n",
       "├─MaxPool2d: 1-3                         [-1, 16, 14, 14]          --\n",
       "├─Conv2d: 1-4                            [-1, 32, 13, 13]          2,080\n",
       "├─MaxPool2d: 1-5                         [-1, 32, 6, 6]            --\n",
       "├─Conv2d: 1-6                            [-1, 64, 6, 6]            2,112\n",
       "├─Linear: 1-7                            [-1, 100]                 230,500\n",
       "├─Linear: 1-8                            [-1, 10]                  1,010\n",
       "==========================================================================================\n",
       "Total params: 236,454\n",
       "Trainable params: 236,454\n",
       "Non-trainable params: 0\n",
       "Total mult-adds (M): 1.28\n",
       "==========================================================================================\n",
       "Input size (MB): 0.01\n",
       "Forward/backward pass size (MB): 0.22\n",
       "Params size (MB): 0.90\n",
       "Estimated Total Size (MB): 1.13\n",
       "=========================================================================================="
      ]
     },
     "execution_count": 10,
     "metadata": {},
     "output_type": "execute_result"
    }
   ],
   "source": [
    "from torchsummary import summary\n",
    "summary(model, (3, 32, 32))"
   ]
  },
  {
   "cell_type": "code",
   "execution_count": 11,
   "metadata": {},
   "outputs": [],
   "source": [
    "from torch.utils.data import DataLoader\n",
    "from torchvision import datasets, transforms\n",
    "import torchvision\n",
    "\n",
    "# define the transformation\n",
    "transform = transforms.Compose([transforms.RandomHorizontalFlip(),\n",
    "                                transforms.RandomRotation(10),\n",
    "                                transforms.RandomResizedCrop(32, scale=(0.8, 1.0), ratio=(1.0, 1.0)),\n",
    "                                transforms.ToTensor(),\n",
    "                                transforms.Normalize((0.5, 0.5, 0.5), (0.5, 0.5, 0.5))])"
   ]
  },
  {
   "cell_type": "code",
   "execution_count": 12,
   "metadata": {},
   "outputs": [
    {
     "name": "stdout",
     "output_type": "stream",
     "text": [
      "Files already downloaded and verified\n",
      "Files already downloaded and verified\n"
     ]
    }
   ],
   "source": [
    "# load the CIFAR-10 dataset\n",
    "trainset = datasets.CIFAR10(root='./data', train=True, download=True, transform=transform)\n",
    "trainloader = DataLoader(trainset, batch_size=16, shuffle=True, num_workers=2)\n",
    "\n",
    "testset = datasets.CIFAR10(root='./data', train=False, download=True, transform=transform)\n",
    "testloader = DataLoader(testset, batch_size=16, shuffle=False, num_workers=2)\n",
    "\n",
    "classes = ('plane', 'car', 'bird', 'cat', 'deer', 'dog', 'frog', 'horse', 'ship', 'truck')"
   ]
  },
  {
   "cell_type": "code",
   "execution_count": 13,
   "metadata": {},
   "outputs": [
    {
     "name": "stdout",
     "output_type": "stream",
     "text": [
      "trainset size:  50000\n",
      "testset size:  10000\n"
     ]
    }
   ],
   "source": [
    "print(\"trainset size: \", len(trainset))\n",
    "print(\"testset size: \", len(testset))"
   ]
  },
  {
   "cell_type": "code",
   "execution_count": 14,
   "metadata": {},
   "outputs": [],
   "source": [
    "# hyperparameters\n",
    "import torch.optim as optim\n",
    "\n",
    "# define the loss function\n",
    "criterion = nn.CrossEntropyLoss()\n",
    "\n",
    "# define the optimizer\n",
    "optimizer = optim.Adam(model.parameters(), lr=0.001)\n",
    "\n",
    "# define the learning rate scheduler\n",
    "scheduler = optim.lr_scheduler.StepLR(optimizer, step_size=7, gamma=0.1)"
   ]
  },
  {
   "cell_type": "code",
   "execution_count": 15,
   "metadata": {},
   "outputs": [
    {
     "name": "stdout",
     "output_type": "stream",
     "text": [
      "Epoch 1/10, loss: 1.6000586784362794, accuracy: 0.4155399799346924\n",
      "Epoch 2/10, loss: 1.3195285240745545, accuracy: 0.5290799736976624\n",
      "Epoch 3/10, loss: 1.210478505973816, accuracy: 0.5728600025177002\n",
      "Epoch 4/10, loss: 1.144288551530838, accuracy: 0.5978400111198425\n",
      "Epoch 5/10, loss: 1.0946241142463684, accuracy: 0.6164799928665161\n",
      "Epoch 6/10, loss: 1.0716942414569854, accuracy: 0.6253399848937988\n",
      "Epoch 7/10, loss: 1.0389714482688903, accuracy: 0.6359999775886536\n",
      "Epoch 8/10, loss: 0.9618984363412857, accuracy: 0.6628599762916565\n",
      "Epoch 9/10, loss: 0.9420968507003784, accuracy: 0.6698799729347229\n",
      "Epoch 10/10, loss: 0.9359991390419007, accuracy: 0.6733799576759338\n",
      "Epoch 11/10, loss: 0.9298970175743103, accuracy: 0.6741999983787537\n",
      "Epoch 12/10, loss: 0.9218539697742462, accuracy: 0.6784999966621399\n",
      "Epoch 13/10, loss: 0.9182490022611618, accuracy: 0.6810399889945984\n",
      "Epoch 14/10, loss: 0.9133122575664521, accuracy: 0.6813799738883972\n",
      "Epoch 15/10, loss: 0.9018590635538101, accuracy: 0.6870799660682678\n",
      "Epoch 16/10, loss: 0.9017904305553436, accuracy: 0.6863200068473816\n",
      "Epoch 17/10, loss: 0.8993637362384796, accuracy: 0.6839799880981445\n",
      "Epoch 18/10, loss: 0.9024910823059082, accuracy: 0.6852399706840515\n",
      "Epoch 19/10, loss: 0.8974375318002701, accuracy: 0.6859399676322937\n",
      "Epoch 20/10, loss: 0.8997164845275879, accuracy: 0.6858800053596497\n",
      "Epoch 21/10, loss: 0.8964004177045822, accuracy: 0.6873599886894226\n",
      "Epoch 22/10, loss: 0.8969512694120407, accuracy: 0.6874600052833557\n",
      "Epoch 23/10, loss: 0.8947737193107606, accuracy: 0.6871599555015564\n",
      "Epoch 24/10, loss: 0.8972192451286316, accuracy: 0.6883400082588196\n",
      "Epoch 25/10, loss: 0.8975316136217117, accuracy: 0.6874200105667114\n",
      "Epoch 26/10, loss: 0.896415341410637, accuracy: 0.6884599924087524\n",
      "Epoch 27/10, loss: 0.8948054280948639, accuracy: 0.6877399682998657\n",
      "Epoch 28/10, loss: 0.8973354412031174, accuracy: 0.6850399971008301\n",
      "Epoch 29/10, loss: 0.8938574637889862, accuracy: 0.6879400014877319\n",
      "Epoch 30/10, loss: 0.8944663297080994, accuracy: 0.6870200037956238\n"
     ]
    }
   ],
   "source": [
    "# training loop\n",
    "for epoch in range(30):\n",
    " train_loss = 0.0 # initialize the training loss\n",
    " train_acc = 0.0 # initialize the training accuracy\n",
    " \n",
    " model.train() # set the model to training mode\n",
    " \n",
    " # iterate over the training data\n",
    " for i, (inputs, labels) in enumerate(trainloader):\n",
    "  # move inputs and labels to the device\n",
    "  inputs, labels = inputs.to(device), labels.to(device)\n",
    "  \n",
    "  # zero the parameter gradients\n",
    "  optimizer.zero_grad()\n",
    "  \n",
    "  # forward pass\n",
    "  outputs = model(inputs)\n",
    "  \n",
    "  # calculate the loss\n",
    "  loss = criterion(outputs, labels)\n",
    "  \n",
    "  # backward pass\n",
    "  loss.backward()\n",
    "  \n",
    "  # optimize\n",
    "  optimizer.step()\n",
    "  \n",
    "  # calculate the training loss\n",
    "  train_loss += loss.item()\n",
    "  \n",
    "  # calculate the training accuracy\n",
    "  _, preds = torch.max(outputs, 1)\n",
    "  train_acc += (preds == labels).float().mean()\n",
    "  \n",
    " train_loss /= i + 1 # calculate the average training loss\n",
    " train_acc /= i + 1 # calculate the average training accuracy\n",
    " \n",
    " scheduler.step() # decay the learning rate by a factor of 0.1 every 7 epochs\n",
    " \n",
    " # print the training loss and accuracy\n",
    " print(f\"Epoch {epoch + 1}/{10}, loss: {train_loss}, accuracy: {train_acc}\")"
   ]
  },
  {
   "cell_type": "code",
   "execution_count": 16,
   "metadata": {},
   "outputs": [
    {
     "name": "stdout",
     "output_type": "stream",
     "text": [
      "Test accuracy: 66.85 %\n"
     ]
    }
   ],
   "source": [
    "# validate the model on the test data\n",
    "with torch.no_grad(): # disable gradient calculation to speed up the process\n",
    " correct = 0 # initialize the number of correct predictions\n",
    " total = 0\n",
    " for images, labels in testloader: # iterate over the test data\n",
    "  images, labels = images.to(device), labels.to(device) # move the images and labels to the device\n",
    "  outputs = model(images) # forward pass: compute model predictions\n",
    "  _, predicted = torch.max(outputs.data, 1) # get the predicted class index\n",
    "  total += labels.size(0) # increment the total count by the batch size\n",
    "  correct += (predicted == labels).sum().item() # count the number of correct predictions in the batch\n",
    " \n",
    " # print the test accuracy\n",
    " print(f\"Test accuracy: {100 * correct / total} %\")"
   ]
  },
  {
   "cell_type": "code",
   "execution_count": 17,
   "metadata": {},
   "outputs": [
    {
     "data": {
      "application/vnd.plotly.v1+json": {
       "config": {
        "plotlyServerURL": "https://plot.ly"
       },
       "data": [
        {
         "colorscale": [
          [
           0,
           "#440154"
          ],
          [
           0.1111111111111111,
           "#482878"
          ],
          [
           0.2222222222222222,
           "#3e4989"
          ],
          [
           0.3333333333333333,
           "#31688e"
          ],
          [
           0.4444444444444444,
           "#26828e"
          ],
          [
           0.5555555555555556,
           "#1f9e89"
          ],
          [
           0.6666666666666666,
           "#35b779"
          ],
          [
           0.7777777777777778,
           "#6ece58"
          ],
          [
           0.8888888888888888,
           "#b5de2b"
          ],
          [
           1,
           "#fde725"
          ]
         ],
         "reversescale": false,
         "showscale": true,
         "type": "heatmap",
         "x": [
          "plane",
          "car",
          "bird",
          "cat",
          "deer",
          "dog",
          "frog",
          "horse",
          "ship",
          "truck"
         ],
         "y": [
          "plane",
          "car",
          "bird",
          "cat",
          "deer",
          "dog",
          "frog",
          "horse",
          "ship",
          "truck"
         ],
         "z": {
          "bdata": "3SQGgZVD5z8rhxbZzvejP1pkO99Pjac/WmQ730+Nlz/6fmq8dJOYP3sUrkfhenQ/eekmMQisfD97FK5H4XqEP4PAyqFFtrM/Gy/dJAaBpT+6SQwCK4emP/p+arx0k+g/+n5qvHSTiD+6SQwCK4eGP3sUrkfhenQ/exSuR+F6dD/8qfHSTWKQP3sUrkfhenQ/O99PjZduoj9KDAIrhxa5P4PAyqFFtrM/exSuR+F6dD/P91PjpZvgP8l2vp8aL60/yXa+nxovvT/TTWIQWDm0PzvfT42XbrI/7FG4HoXroT97FK5H4XqUP7pJDAIrh5Y/+n5qvHSTmD8bL90kBoGVP1g5tMh2vq8/zczMzMzM3D+TGARWDi2yP65H4XoUrsc/6SYxCKwcuj+6SQwCK4emP/p+arx0k5g/nMQgsHJokT97FK5H4XqUP3sUrkfhenQ/MzMzMzMzsz8ZBFYOLbKtPzEIrBxaZOM/7FG4HoXroT8j2/l+ary0PwIrhxbZzrc/O99PjZdukj8730+Nl26CP3sUrkfhepQ//Knx0k1icD8pXI/C9SisP7bz/dR46cY/eekmMQisrD8UrkfhehTiP9nO91PjpZs/g8DKoUW2sz/8qfHSTWKAPzvfT42XboI/O99PjZdugj97FK5H4Xp0PwrXo3A9Cqc/pHA9CtejsD9aZDvfT42nP+xRuB6F66E/0SLb+X5q6D+4HoXrUbiOP3npJjEIrHw/exSuR+F6hD+4HoXrUbiOP/p+arx0k3g/7FG4HoXroT+q8dJNYhCoPyuHFtnO97M/c2iR7Xw/tT8730+Nl26CPxBYObTIduY//Knx0k1iYD9aZDvfT42XP4ts5/up8bI/y6FFtvP9pD97FK5H4XqUP3npJjEIrIw//Knx0k1igD/6fmq8dJN4P/yp8dJNYnA/+n5qvHSTiD/Jdr6fGi/pP5zEILByaKE/i2zn+6nxoj+q8dJNYhC4P/yp8dJNYoA/O99PjZdukj/6fmq8dJOIP/yp8dJNYoA//Knx0k1igD8bL90kBoGVP5zEILByaKE/UrgehetR6D8=",
          "dtype": "f8",
          "shape": "10, 10"
         }
        }
       ],
       "layout": {
        "annotations": [
         {
          "font": {
           "color": "#000000"
          },
          "showarrow": false,
          "text": "0.727",
          "x": "plane",
          "xref": "x",
          "y": "plane",
          "yref": "y"
         },
         {
          "font": {
           "color": "#FFFFFF"
          },
          "showarrow": false,
          "text": "0.039",
          "x": "car",
          "xref": "x",
          "y": "plane",
          "yref": "y"
         },
         {
          "font": {
           "color": "#FFFFFF"
          },
          "showarrow": false,
          "text": "0.046",
          "x": "bird",
          "xref": "x",
          "y": "plane",
          "yref": "y"
         },
         {
          "font": {
           "color": "#FFFFFF"
          },
          "showarrow": false,
          "text": "0.023",
          "x": "cat",
          "xref": "x",
          "y": "plane",
          "yref": "y"
         },
         {
          "font": {
           "color": "#FFFFFF"
          },
          "showarrow": false,
          "text": "0.024",
          "x": "deer",
          "xref": "x",
          "y": "plane",
          "yref": "y"
         },
         {
          "font": {
           "color": "#FFFFFF"
          },
          "showarrow": false,
          "text": "0.005",
          "x": "dog",
          "xref": "x",
          "y": "plane",
          "yref": "y"
         },
         {
          "font": {
           "color": "#FFFFFF"
          },
          "showarrow": false,
          "text": "0.007",
          "x": "frog",
          "xref": "x",
          "y": "plane",
          "yref": "y"
         },
         {
          "font": {
           "color": "#FFFFFF"
          },
          "showarrow": false,
          "text": "0.01",
          "x": "horse",
          "xref": "x",
          "y": "plane",
          "yref": "y"
         },
         {
          "font": {
           "color": "#FFFFFF"
          },
          "showarrow": false,
          "text": "0.077",
          "x": "ship",
          "xref": "x",
          "y": "plane",
          "yref": "y"
         },
         {
          "font": {
           "color": "#FFFFFF"
          },
          "showarrow": false,
          "text": "0.042",
          "x": "truck",
          "xref": "x",
          "y": "plane",
          "yref": "y"
         },
         {
          "font": {
           "color": "#FFFFFF"
          },
          "showarrow": false,
          "text": "0.044",
          "x": "plane",
          "xref": "x",
          "y": "car",
          "yref": "y"
         },
         {
          "font": {
           "color": "#000000"
          },
          "showarrow": false,
          "text": "0.768",
          "x": "car",
          "xref": "x",
          "y": "car",
          "yref": "y"
         },
         {
          "font": {
           "color": "#FFFFFF"
          },
          "showarrow": false,
          "text": "0.012",
          "x": "bird",
          "xref": "x",
          "y": "car",
          "yref": "y"
         },
         {
          "font": {
           "color": "#FFFFFF"
          },
          "showarrow": false,
          "text": "0.011",
          "x": "cat",
          "xref": "x",
          "y": "car",
          "yref": "y"
         },
         {
          "font": {
           "color": "#FFFFFF"
          },
          "showarrow": false,
          "text": "0.005",
          "x": "deer",
          "xref": "x",
          "y": "car",
          "yref": "y"
         },
         {
          "font": {
           "color": "#FFFFFF"
          },
          "showarrow": false,
          "text": "0.005",
          "x": "dog",
          "xref": "x",
          "y": "car",
          "yref": "y"
         },
         {
          "font": {
           "color": "#FFFFFF"
          },
          "showarrow": false,
          "text": "0.016",
          "x": "frog",
          "xref": "x",
          "y": "car",
          "yref": "y"
         },
         {
          "font": {
           "color": "#FFFFFF"
          },
          "showarrow": false,
          "text": "0.005",
          "x": "horse",
          "xref": "x",
          "y": "car",
          "yref": "y"
         },
         {
          "font": {
           "color": "#FFFFFF"
          },
          "showarrow": false,
          "text": "0.036",
          "x": "ship",
          "xref": "x",
          "y": "car",
          "yref": "y"
         },
         {
          "font": {
           "color": "#FFFFFF"
          },
          "showarrow": false,
          "text": "0.098",
          "x": "truck",
          "xref": "x",
          "y": "car",
          "yref": "y"
         },
         {
          "font": {
           "color": "#FFFFFF"
          },
          "showarrow": false,
          "text": "0.077",
          "x": "plane",
          "xref": "x",
          "y": "bird",
          "yref": "y"
         },
         {
          "font": {
           "color": "#FFFFFF"
          },
          "showarrow": false,
          "text": "0.005",
          "x": "car",
          "xref": "x",
          "y": "bird",
          "yref": "y"
         },
         {
          "font": {
           "color": "#000000"
          },
          "showarrow": false,
          "text": "0.519",
          "x": "bird",
          "xref": "x",
          "y": "bird",
          "yref": "y"
         },
         {
          "font": {
           "color": "#FFFFFF"
          },
          "showarrow": false,
          "text": "0.057",
          "x": "cat",
          "xref": "x",
          "y": "bird",
          "yref": "y"
         },
         {
          "font": {
           "color": "#FFFFFF"
          },
          "showarrow": false,
          "text": "0.114",
          "x": "deer",
          "xref": "x",
          "y": "bird",
          "yref": "y"
         },
         {
          "font": {
           "color": "#FFFFFF"
          },
          "showarrow": false,
          "text": "0.079",
          "x": "dog",
          "xref": "x",
          "y": "bird",
          "yref": "y"
         },
         {
          "font": {
           "color": "#FFFFFF"
          },
          "showarrow": false,
          "text": "0.072",
          "x": "frog",
          "xref": "x",
          "y": "bird",
          "yref": "y"
         },
         {
          "font": {
           "color": "#FFFFFF"
          },
          "showarrow": false,
          "text": "0.035",
          "x": "horse",
          "xref": "x",
          "y": "bird",
          "yref": "y"
         },
         {
          "font": {
           "color": "#FFFFFF"
          },
          "showarrow": false,
          "text": "0.02",
          "x": "ship",
          "xref": "x",
          "y": "bird",
          "yref": "y"
         },
         {
          "font": {
           "color": "#FFFFFF"
          },
          "showarrow": false,
          "text": "0.022",
          "x": "truck",
          "xref": "x",
          "y": "bird",
          "yref": "y"
         },
         {
          "font": {
           "color": "#FFFFFF"
          },
          "showarrow": false,
          "text": "0.024",
          "x": "plane",
          "xref": "x",
          "y": "cat",
          "yref": "y"
         },
         {
          "font": {
           "color": "#FFFFFF"
          },
          "showarrow": false,
          "text": "0.021",
          "x": "car",
          "xref": "x",
          "y": "cat",
          "yref": "y"
         },
         {
          "font": {
           "color": "#FFFFFF"
          },
          "showarrow": false,
          "text": "0.062",
          "x": "bird",
          "xref": "x",
          "y": "cat",
          "yref": "y"
         },
         {
          "font": {
           "color": "#000000"
          },
          "showarrow": false,
          "text": "0.45",
          "x": "cat",
          "xref": "x",
          "y": "cat",
          "yref": "y"
         },
         {
          "font": {
           "color": "#FFFFFF"
          },
          "showarrow": false,
          "text": "0.071",
          "x": "deer",
          "xref": "x",
          "y": "cat",
          "yref": "y"
         },
         {
          "font": {
           "color": "#FFFFFF"
          },
          "showarrow": false,
          "text": "0.185",
          "x": "dog",
          "xref": "x",
          "y": "cat",
          "yref": "y"
         },
         {
          "font": {
           "color": "#FFFFFF"
          },
          "showarrow": false,
          "text": "0.102",
          "x": "frog",
          "xref": "x",
          "y": "cat",
          "yref": "y"
         },
         {
          "font": {
           "color": "#FFFFFF"
          },
          "showarrow": false,
          "text": "0.044",
          "x": "horse",
          "xref": "x",
          "y": "cat",
          "yref": "y"
         },
         {
          "font": {
           "color": "#FFFFFF"
          },
          "showarrow": false,
          "text": "0.024",
          "x": "ship",
          "xref": "x",
          "y": "cat",
          "yref": "y"
         },
         {
          "font": {
           "color": "#FFFFFF"
          },
          "showarrow": false,
          "text": "0.017",
          "x": "truck",
          "xref": "x",
          "y": "cat",
          "yref": "y"
         },
         {
          "font": {
           "color": "#FFFFFF"
          },
          "showarrow": false,
          "text": "0.02",
          "x": "plane",
          "xref": "x",
          "y": "deer",
          "yref": "y"
         },
         {
          "font": {
           "color": "#FFFFFF"
          },
          "showarrow": false,
          "text": "0.005",
          "x": "car",
          "xref": "x",
          "y": "deer",
          "yref": "y"
         },
         {
          "font": {
           "color": "#FFFFFF"
          },
          "showarrow": false,
          "text": "0.075",
          "x": "bird",
          "xref": "x",
          "y": "deer",
          "yref": "y"
         },
         {
          "font": {
           "color": "#FFFFFF"
          },
          "showarrow": false,
          "text": "0.058",
          "x": "cat",
          "xref": "x",
          "y": "deer",
          "yref": "y"
         },
         {
          "font": {
           "color": "#000000"
          },
          "showarrow": false,
          "text": "0.606",
          "x": "deer",
          "xref": "x",
          "y": "deer",
          "yref": "y"
         },
         {
          "font": {
           "color": "#FFFFFF"
          },
          "showarrow": false,
          "text": "0.035",
          "x": "dog",
          "xref": "x",
          "y": "deer",
          "yref": "y"
         },
         {
          "font": {
           "color": "#FFFFFF"
          },
          "showarrow": false,
          "text": "0.081",
          "x": "frog",
          "xref": "x",
          "y": "deer",
          "yref": "y"
         },
         {
          "font": {
           "color": "#FFFFFF"
          },
          "showarrow": false,
          "text": "0.093",
          "x": "horse",
          "xref": "x",
          "y": "deer",
          "yref": "y"
         },
         {
          "font": {
           "color": "#FFFFFF"
          },
          "showarrow": false,
          "text": "0.018",
          "x": "ship",
          "xref": "x",
          "y": "deer",
          "yref": "y"
         },
         {
          "font": {
           "color": "#FFFFFF"
          },
          "showarrow": false,
          "text": "0.009",
          "x": "truck",
          "xref": "x",
          "y": "deer",
          "yref": "y"
         },
         {
          "font": {
           "color": "#FFFFFF"
          },
          "showarrow": false,
          "text": "0.02",
          "x": "plane",
          "xref": "x",
          "y": "dog",
          "yref": "y"
         },
         {
          "font": {
           "color": "#FFFFFF"
          },
          "showarrow": false,
          "text": "0.004",
          "x": "car",
          "xref": "x",
          "y": "dog",
          "yref": "y"
         },
         {
          "font": {
           "color": "#FFFFFF"
          },
          "showarrow": false,
          "text": "0.055",
          "x": "bird",
          "xref": "x",
          "y": "dog",
          "yref": "y"
         },
         {
          "font": {
           "color": "#FFFFFF"
          },
          "showarrow": false,
          "text": "0.179",
          "x": "cat",
          "xref": "x",
          "y": "dog",
          "yref": "y"
         },
         {
          "font": {
           "color": "#FFFFFF"
          },
          "showarrow": false,
          "text": "0.056",
          "x": "deer",
          "xref": "x",
          "y": "dog",
          "yref": "y"
         },
         {
          "font": {
           "color": "#000000"
          },
          "showarrow": false,
          "text": "0.565",
          "x": "dog",
          "xref": "x",
          "y": "dog",
          "yref": "y"
         },
         {
          "font": {
           "color": "#FFFFFF"
          },
          "showarrow": false,
          "text": "0.027",
          "x": "frog",
          "xref": "x",
          "y": "dog",
          "yref": "y"
         },
         {
          "font": {
           "color": "#FFFFFF"
          },
          "showarrow": false,
          "text": "0.077",
          "x": "horse",
          "xref": "x",
          "y": "dog",
          "yref": "y"
         },
         {
          "font": {
           "color": "#FFFFFF"
          },
          "showarrow": false,
          "text": "0.008",
          "x": "ship",
          "xref": "x",
          "y": "dog",
          "yref": "y"
         },
         {
          "font": {
           "color": "#FFFFFF"
          },
          "showarrow": false,
          "text": "0.009",
          "x": "truck",
          "xref": "x",
          "y": "dog",
          "yref": "y"
         },
         {
          "font": {
           "color": "#FFFFFF"
          },
          "showarrow": false,
          "text": "0.009",
          "x": "plane",
          "xref": "x",
          "y": "frog",
          "yref": "y"
         },
         {
          "font": {
           "color": "#FFFFFF"
          },
          "showarrow": false,
          "text": "0.005",
          "x": "car",
          "xref": "x",
          "y": "frog",
          "yref": "y"
         },
         {
          "font": {
           "color": "#FFFFFF"
          },
          "showarrow": false,
          "text": "0.045",
          "x": "bird",
          "xref": "x",
          "y": "frog",
          "yref": "y"
         },
         {
          "font": {
           "color": "#FFFFFF"
          },
          "showarrow": false,
          "text": "0.065",
          "x": "cat",
          "xref": "x",
          "y": "frog",
          "yref": "y"
         },
         {
          "font": {
           "color": "#FFFFFF"
          },
          "showarrow": false,
          "text": "0.046",
          "x": "deer",
          "xref": "x",
          "y": "frog",
          "yref": "y"
         },
         {
          "font": {
           "color": "#FFFFFF"
          },
          "showarrow": false,
          "text": "0.035",
          "x": "dog",
          "xref": "x",
          "y": "frog",
          "yref": "y"
         },
         {
          "font": {
           "color": "#000000"
          },
          "showarrow": false,
          "text": "0.763",
          "x": "frog",
          "xref": "x",
          "y": "frog",
          "yref": "y"
         },
         {
          "font": {
           "color": "#FFFFFF"
          },
          "showarrow": false,
          "text": "0.015",
          "x": "horse",
          "xref": "x",
          "y": "frog",
          "yref": "y"
         },
         {
          "font": {
           "color": "#FFFFFF"
          },
          "showarrow": false,
          "text": "0.007",
          "x": "ship",
          "xref": "x",
          "y": "frog",
          "yref": "y"
         },
         {
          "font": {
           "color": "#FFFFFF"
          },
          "showarrow": false,
          "text": "0.01",
          "x": "truck",
          "xref": "x",
          "y": "frog",
          "yref": "y"
         },
         {
          "font": {
           "color": "#FFFFFF"
          },
          "showarrow": false,
          "text": "0.015",
          "x": "plane",
          "xref": "x",
          "y": "horse",
          "yref": "y"
         },
         {
          "font": {
           "color": "#FFFFFF"
          },
          "showarrow": false,
          "text": "0.006",
          "x": "car",
          "xref": "x",
          "y": "horse",
          "yref": "y"
         },
         {
          "font": {
           "color": "#FFFFFF"
          },
          "showarrow": false,
          "text": "0.035",
          "x": "bird",
          "xref": "x",
          "y": "horse",
          "yref": "y"
         },
         {
          "font": {
           "color": "#FFFFFF"
          },
          "showarrow": false,
          "text": "0.047",
          "x": "cat",
          "xref": "x",
          "y": "horse",
          "yref": "y"
         },
         {
          "font": {
           "color": "#FFFFFF"
          },
          "showarrow": false,
          "text": "0.078",
          "x": "deer",
          "xref": "x",
          "y": "horse",
          "yref": "y"
         },
         {
          "font": {
           "color": "#FFFFFF"
          },
          "showarrow": false,
          "text": "0.083",
          "x": "dog",
          "xref": "x",
          "y": "horse",
          "yref": "y"
         },
         {
          "font": {
           "color": "#FFFFFF"
          },
          "showarrow": false,
          "text": "0.009",
          "x": "frog",
          "xref": "x",
          "y": "horse",
          "yref": "y"
         },
         {
          "font": {
           "color": "#000000"
          },
          "showarrow": false,
          "text": "0.702",
          "x": "horse",
          "xref": "x",
          "y": "horse",
          "yref": "y"
         },
         {
          "font": {
           "color": "#FFFFFF"
          },
          "showarrow": false,
          "text": "0.002",
          "x": "ship",
          "xref": "x",
          "y": "horse",
          "yref": "y"
         },
         {
          "font": {
           "color": "#FFFFFF"
          },
          "showarrow": false,
          "text": "0.023",
          "x": "truck",
          "xref": "x",
          "y": "horse",
          "yref": "y"
         },
         {
          "font": {
           "color": "#FFFFFF"
          },
          "showarrow": false,
          "text": "0.074",
          "x": "plane",
          "xref": "x",
          "y": "ship",
          "yref": "y"
         },
         {
          "font": {
           "color": "#FFFFFF"
          },
          "showarrow": false,
          "text": "0.041",
          "x": "car",
          "xref": "x",
          "y": "ship",
          "yref": "y"
         },
         {
          "font": {
           "color": "#FFFFFF"
          },
          "showarrow": false,
          "text": "0.02",
          "x": "bird",
          "xref": "x",
          "y": "ship",
          "yref": "y"
         },
         {
          "font": {
           "color": "#FFFFFF"
          },
          "showarrow": false,
          "text": "0.014",
          "x": "cat",
          "xref": "x",
          "y": "ship",
          "yref": "y"
         },
         {
          "font": {
           "color": "#FFFFFF"
          },
          "showarrow": false,
          "text": "0.008",
          "x": "deer",
          "xref": "x",
          "y": "ship",
          "yref": "y"
         },
         {
          "font": {
           "color": "#FFFFFF"
          },
          "showarrow": false,
          "text": "0.006",
          "x": "dog",
          "xref": "x",
          "y": "ship",
          "yref": "y"
         },
         {
          "font": {
           "color": "#FFFFFF"
          },
          "showarrow": false,
          "text": "0.004",
          "x": "frog",
          "xref": "x",
          "y": "ship",
          "yref": "y"
         },
         {
          "font": {
           "color": "#FFFFFF"
          },
          "showarrow": false,
          "text": "0.012",
          "x": "horse",
          "xref": "x",
          "y": "ship",
          "yref": "y"
         },
         {
          "font": {
           "color": "#000000"
          },
          "showarrow": false,
          "text": "0.787",
          "x": "ship",
          "xref": "x",
          "y": "ship",
          "yref": "y"
         },
         {
          "font": {
           "color": "#FFFFFF"
          },
          "showarrow": false,
          "text": "0.034",
          "x": "truck",
          "xref": "x",
          "y": "ship",
          "yref": "y"
         },
         {
          "font": {
           "color": "#FFFFFF"
          },
          "showarrow": false,
          "text": "0.037",
          "x": "plane",
          "xref": "x",
          "y": "truck",
          "yref": "y"
         },
         {
          "font": {
           "color": "#FFFFFF"
          },
          "showarrow": false,
          "text": "0.094",
          "x": "car",
          "xref": "x",
          "y": "truck",
          "yref": "y"
         },
         {
          "font": {
           "color": "#FFFFFF"
          },
          "showarrow": false,
          "text": "0.008",
          "x": "bird",
          "xref": "x",
          "y": "truck",
          "yref": "y"
         },
         {
          "font": {
           "color": "#FFFFFF"
          },
          "showarrow": false,
          "text": "0.018",
          "x": "cat",
          "xref": "x",
          "y": "truck",
          "yref": "y"
         },
         {
          "font": {
           "color": "#FFFFFF"
          },
          "showarrow": false,
          "text": "0.012",
          "x": "deer",
          "xref": "x",
          "y": "truck",
          "yref": "y"
         },
         {
          "font": {
           "color": "#FFFFFF"
          },
          "showarrow": false,
          "text": "0.008",
          "x": "dog",
          "xref": "x",
          "y": "truck",
          "yref": "y"
         },
         {
          "font": {
           "color": "#FFFFFF"
          },
          "showarrow": false,
          "text": "0.008",
          "x": "frog",
          "xref": "x",
          "y": "truck",
          "yref": "y"
         },
         {
          "font": {
           "color": "#FFFFFF"
          },
          "showarrow": false,
          "text": "0.021",
          "x": "horse",
          "xref": "x",
          "y": "truck",
          "yref": "y"
         },
         {
          "font": {
           "color": "#FFFFFF"
          },
          "showarrow": false,
          "text": "0.034",
          "x": "ship",
          "xref": "x",
          "y": "truck",
          "yref": "y"
         },
         {
          "font": {
           "color": "#000000"
          },
          "showarrow": false,
          "text": "0.76",
          "x": "truck",
          "xref": "x",
          "y": "truck",
          "yref": "y"
         }
        ],
        "template": {
         "data": {
          "bar": [
           {
            "error_x": {
             "color": "#2a3f5f"
            },
            "error_y": {
             "color": "#2a3f5f"
            },
            "marker": {
             "line": {
              "color": "#E5ECF6",
              "width": 0.5
             },
             "pattern": {
              "fillmode": "overlay",
              "size": 10,
              "solidity": 0.2
             }
            },
            "type": "bar"
           }
          ],
          "barpolar": [
           {
            "marker": {
             "line": {
              "color": "#E5ECF6",
              "width": 0.5
             },
             "pattern": {
              "fillmode": "overlay",
              "size": 10,
              "solidity": 0.2
             }
            },
            "type": "barpolar"
           }
          ],
          "carpet": [
           {
            "aaxis": {
             "endlinecolor": "#2a3f5f",
             "gridcolor": "white",
             "linecolor": "white",
             "minorgridcolor": "white",
             "startlinecolor": "#2a3f5f"
            },
            "baxis": {
             "endlinecolor": "#2a3f5f",
             "gridcolor": "white",
             "linecolor": "white",
             "minorgridcolor": "white",
             "startlinecolor": "#2a3f5f"
            },
            "type": "carpet"
           }
          ],
          "choropleth": [
           {
            "colorbar": {
             "outlinewidth": 0,
             "ticks": ""
            },
            "type": "choropleth"
           }
          ],
          "contour": [
           {
            "colorbar": {
             "outlinewidth": 0,
             "ticks": ""
            },
            "colorscale": [
             [
              0,
              "#0d0887"
             ],
             [
              0.1111111111111111,
              "#46039f"
             ],
             [
              0.2222222222222222,
              "#7201a8"
             ],
             [
              0.3333333333333333,
              "#9c179e"
             ],
             [
              0.4444444444444444,
              "#bd3786"
             ],
             [
              0.5555555555555556,
              "#d8576b"
             ],
             [
              0.6666666666666666,
              "#ed7953"
             ],
             [
              0.7777777777777778,
              "#fb9f3a"
             ],
             [
              0.8888888888888888,
              "#fdca26"
             ],
             [
              1,
              "#f0f921"
             ]
            ],
            "type": "contour"
           }
          ],
          "contourcarpet": [
           {
            "colorbar": {
             "outlinewidth": 0,
             "ticks": ""
            },
            "type": "contourcarpet"
           }
          ],
          "heatmap": [
           {
            "colorbar": {
             "outlinewidth": 0,
             "ticks": ""
            },
            "colorscale": [
             [
              0,
              "#0d0887"
             ],
             [
              0.1111111111111111,
              "#46039f"
             ],
             [
              0.2222222222222222,
              "#7201a8"
             ],
             [
              0.3333333333333333,
              "#9c179e"
             ],
             [
              0.4444444444444444,
              "#bd3786"
             ],
             [
              0.5555555555555556,
              "#d8576b"
             ],
             [
              0.6666666666666666,
              "#ed7953"
             ],
             [
              0.7777777777777778,
              "#fb9f3a"
             ],
             [
              0.8888888888888888,
              "#fdca26"
             ],
             [
              1,
              "#f0f921"
             ]
            ],
            "type": "heatmap"
           }
          ],
          "histogram": [
           {
            "marker": {
             "pattern": {
              "fillmode": "overlay",
              "size": 10,
              "solidity": 0.2
             }
            },
            "type": "histogram"
           }
          ],
          "histogram2d": [
           {
            "colorbar": {
             "outlinewidth": 0,
             "ticks": ""
            },
            "colorscale": [
             [
              0,
              "#0d0887"
             ],
             [
              0.1111111111111111,
              "#46039f"
             ],
             [
              0.2222222222222222,
              "#7201a8"
             ],
             [
              0.3333333333333333,
              "#9c179e"
             ],
             [
              0.4444444444444444,
              "#bd3786"
             ],
             [
              0.5555555555555556,
              "#d8576b"
             ],
             [
              0.6666666666666666,
              "#ed7953"
             ],
             [
              0.7777777777777778,
              "#fb9f3a"
             ],
             [
              0.8888888888888888,
              "#fdca26"
             ],
             [
              1,
              "#f0f921"
             ]
            ],
            "type": "histogram2d"
           }
          ],
          "histogram2dcontour": [
           {
            "colorbar": {
             "outlinewidth": 0,
             "ticks": ""
            },
            "colorscale": [
             [
              0,
              "#0d0887"
             ],
             [
              0.1111111111111111,
              "#46039f"
             ],
             [
              0.2222222222222222,
              "#7201a8"
             ],
             [
              0.3333333333333333,
              "#9c179e"
             ],
             [
              0.4444444444444444,
              "#bd3786"
             ],
             [
              0.5555555555555556,
              "#d8576b"
             ],
             [
              0.6666666666666666,
              "#ed7953"
             ],
             [
              0.7777777777777778,
              "#fb9f3a"
             ],
             [
              0.8888888888888888,
              "#fdca26"
             ],
             [
              1,
              "#f0f921"
             ]
            ],
            "type": "histogram2dcontour"
           }
          ],
          "mesh3d": [
           {
            "colorbar": {
             "outlinewidth": 0,
             "ticks": ""
            },
            "type": "mesh3d"
           }
          ],
          "parcoords": [
           {
            "line": {
             "colorbar": {
              "outlinewidth": 0,
              "ticks": ""
             }
            },
            "type": "parcoords"
           }
          ],
          "pie": [
           {
            "automargin": true,
            "type": "pie"
           }
          ],
          "scatter": [
           {
            "fillpattern": {
             "fillmode": "overlay",
             "size": 10,
             "solidity": 0.2
            },
            "type": "scatter"
           }
          ],
          "scatter3d": [
           {
            "line": {
             "colorbar": {
              "outlinewidth": 0,
              "ticks": ""
             }
            },
            "marker": {
             "colorbar": {
              "outlinewidth": 0,
              "ticks": ""
             }
            },
            "type": "scatter3d"
           }
          ],
          "scattercarpet": [
           {
            "marker": {
             "colorbar": {
              "outlinewidth": 0,
              "ticks": ""
             }
            },
            "type": "scattercarpet"
           }
          ],
          "scattergeo": [
           {
            "marker": {
             "colorbar": {
              "outlinewidth": 0,
              "ticks": ""
             }
            },
            "type": "scattergeo"
           }
          ],
          "scattergl": [
           {
            "marker": {
             "colorbar": {
              "outlinewidth": 0,
              "ticks": ""
             }
            },
            "type": "scattergl"
           }
          ],
          "scattermap": [
           {
            "marker": {
             "colorbar": {
              "outlinewidth": 0,
              "ticks": ""
             }
            },
            "type": "scattermap"
           }
          ],
          "scattermapbox": [
           {
            "marker": {
             "colorbar": {
              "outlinewidth": 0,
              "ticks": ""
             }
            },
            "type": "scattermapbox"
           }
          ],
          "scatterpolar": [
           {
            "marker": {
             "colorbar": {
              "outlinewidth": 0,
              "ticks": ""
             }
            },
            "type": "scatterpolar"
           }
          ],
          "scatterpolargl": [
           {
            "marker": {
             "colorbar": {
              "outlinewidth": 0,
              "ticks": ""
             }
            },
            "type": "scatterpolargl"
           }
          ],
          "scatterternary": [
           {
            "marker": {
             "colorbar": {
              "outlinewidth": 0,
              "ticks": ""
             }
            },
            "type": "scatterternary"
           }
          ],
          "surface": [
           {
            "colorbar": {
             "outlinewidth": 0,
             "ticks": ""
            },
            "colorscale": [
             [
              0,
              "#0d0887"
             ],
             [
              0.1111111111111111,
              "#46039f"
             ],
             [
              0.2222222222222222,
              "#7201a8"
             ],
             [
              0.3333333333333333,
              "#9c179e"
             ],
             [
              0.4444444444444444,
              "#bd3786"
             ],
             [
              0.5555555555555556,
              "#d8576b"
             ],
             [
              0.6666666666666666,
              "#ed7953"
             ],
             [
              0.7777777777777778,
              "#fb9f3a"
             ],
             [
              0.8888888888888888,
              "#fdca26"
             ],
             [
              1,
              "#f0f921"
             ]
            ],
            "type": "surface"
           }
          ],
          "table": [
           {
            "cells": {
             "fill": {
              "color": "#EBF0F8"
             },
             "line": {
              "color": "white"
             }
            },
            "header": {
             "fill": {
              "color": "#C8D4E3"
             },
             "line": {
              "color": "white"
             }
            },
            "type": "table"
           }
          ]
         },
         "layout": {
          "annotationdefaults": {
           "arrowcolor": "#2a3f5f",
           "arrowhead": 0,
           "arrowwidth": 1
          },
          "autotypenumbers": "strict",
          "coloraxis": {
           "colorbar": {
            "outlinewidth": 0,
            "ticks": ""
           }
          },
          "colorscale": {
           "diverging": [
            [
             0,
             "#8e0152"
            ],
            [
             0.1,
             "#c51b7d"
            ],
            [
             0.2,
             "#de77ae"
            ],
            [
             0.3,
             "#f1b6da"
            ],
            [
             0.4,
             "#fde0ef"
            ],
            [
             0.5,
             "#f7f7f7"
            ],
            [
             0.6,
             "#e6f5d0"
            ],
            [
             0.7,
             "#b8e186"
            ],
            [
             0.8,
             "#7fbc41"
            ],
            [
             0.9,
             "#4d9221"
            ],
            [
             1,
             "#276419"
            ]
           ],
           "sequential": [
            [
             0,
             "#0d0887"
            ],
            [
             0.1111111111111111,
             "#46039f"
            ],
            [
             0.2222222222222222,
             "#7201a8"
            ],
            [
             0.3333333333333333,
             "#9c179e"
            ],
            [
             0.4444444444444444,
             "#bd3786"
            ],
            [
             0.5555555555555556,
             "#d8576b"
            ],
            [
             0.6666666666666666,
             "#ed7953"
            ],
            [
             0.7777777777777778,
             "#fb9f3a"
            ],
            [
             0.8888888888888888,
             "#fdca26"
            ],
            [
             1,
             "#f0f921"
            ]
           ],
           "sequentialminus": [
            [
             0,
             "#0d0887"
            ],
            [
             0.1111111111111111,
             "#46039f"
            ],
            [
             0.2222222222222222,
             "#7201a8"
            ],
            [
             0.3333333333333333,
             "#9c179e"
            ],
            [
             0.4444444444444444,
             "#bd3786"
            ],
            [
             0.5555555555555556,
             "#d8576b"
            ],
            [
             0.6666666666666666,
             "#ed7953"
            ],
            [
             0.7777777777777778,
             "#fb9f3a"
            ],
            [
             0.8888888888888888,
             "#fdca26"
            ],
            [
             1,
             "#f0f921"
            ]
           ]
          },
          "colorway": [
           "#636efa",
           "#EF553B",
           "#00cc96",
           "#ab63fa",
           "#FFA15A",
           "#19d3f3",
           "#FF6692",
           "#B6E880",
           "#FF97FF",
           "#FECB52"
          ],
          "font": {
           "color": "#2a3f5f"
          },
          "geo": {
           "bgcolor": "white",
           "lakecolor": "white",
           "landcolor": "#E5ECF6",
           "showlakes": true,
           "showland": true,
           "subunitcolor": "white"
          },
          "hoverlabel": {
           "align": "left"
          },
          "hovermode": "closest",
          "mapbox": {
           "style": "light"
          },
          "paper_bgcolor": "white",
          "plot_bgcolor": "#E5ECF6",
          "polar": {
           "angularaxis": {
            "gridcolor": "white",
            "linecolor": "white",
            "ticks": ""
           },
           "bgcolor": "#E5ECF6",
           "radialaxis": {
            "gridcolor": "white",
            "linecolor": "white",
            "ticks": ""
           }
          },
          "scene": {
           "xaxis": {
            "backgroundcolor": "#E5ECF6",
            "gridcolor": "white",
            "gridwidth": 2,
            "linecolor": "white",
            "showbackground": true,
            "ticks": "",
            "zerolinecolor": "white"
           },
           "yaxis": {
            "backgroundcolor": "#E5ECF6",
            "gridcolor": "white",
            "gridwidth": 2,
            "linecolor": "white",
            "showbackground": true,
            "ticks": "",
            "zerolinecolor": "white"
           },
           "zaxis": {
            "backgroundcolor": "#E5ECF6",
            "gridcolor": "white",
            "gridwidth": 2,
            "linecolor": "white",
            "showbackground": true,
            "ticks": "",
            "zerolinecolor": "white"
           }
          },
          "shapedefaults": {
           "line": {
            "color": "#2a3f5f"
           }
          },
          "ternary": {
           "aaxis": {
            "gridcolor": "white",
            "linecolor": "white",
            "ticks": ""
           },
           "baxis": {
            "gridcolor": "white",
            "linecolor": "white",
            "ticks": ""
           },
           "bgcolor": "#E5ECF6",
           "caxis": {
            "gridcolor": "white",
            "linecolor": "white",
            "ticks": ""
           }
          },
          "title": {
           "x": 0.05
          },
          "xaxis": {
           "automargin": true,
           "gridcolor": "white",
           "linecolor": "white",
           "ticks": "",
           "title": {
            "standoff": 15
           },
           "zerolinecolor": "white",
           "zerolinewidth": 2
          },
          "yaxis": {
           "automargin": true,
           "gridcolor": "white",
           "linecolor": "white",
           "ticks": "",
           "title": {
            "standoff": 15
           },
           "zerolinecolor": "white",
           "zerolinewidth": 2
          }
         }
        },
        "title": {
         "text": "Confusion Matrix"
        },
        "xaxis": {
         "dtick": 1,
         "gridcolor": "rgb(0, 0, 0)",
         "side": "top",
         "ticks": "",
         "title": {
          "text": "Predicted labels"
         }
        },
        "yaxis": {
         "dtick": 1,
         "ticks": "",
         "ticksuffix": "  ",
         "title": {
          "text": "True labels"
         }
        }
       }
      }
     },
     "metadata": {},
     "output_type": "display_data"
    },
    {
     "name": "stdout",
     "output_type": "stream",
     "text": [
      "\n",
      "Classification Report:\n",
      "              precision    recall  f1-score   support\n",
      "\n",
      "       plane       0.69      0.73      0.71      1000\n",
      "         car       0.78      0.77      0.77      1000\n",
      "        bird       0.59      0.52      0.55      1000\n",
      "         cat       0.49      0.45      0.47      1000\n",
      "        deer       0.59      0.61      0.60      1000\n",
      "         dog       0.56      0.56      0.56      1000\n",
      "        frog       0.70      0.76      0.73      1000\n",
      "       horse       0.69      0.70      0.70      1000\n",
      "        ship       0.78      0.79      0.78      1000\n",
      "       truck       0.74      0.76      0.75      1000\n",
      "\n",
      "    accuracy                           0.66     10000\n",
      "   macro avg       0.66      0.66      0.66     10000\n",
      "weighted avg       0.66      0.66      0.66     10000\n",
      "\n"
     ]
    }
   ],
   "source": [
    "\n",
    "from sklearn.metrics import confusion_matrix, classification_report\n",
    "import plotly.figure_factory as ff # for visualization\n",
    "import numpy as np\n",
    "\n",
    "# evaluation loop\n",
    "model.eval() # set the model to evaluation mode\n",
    "all_preds = [] # list to store all predictions\n",
    "all_labels = [] # list to store all labels\n",
    "\n",
    "# iterate over the test data\n",
    "with torch.no_grad():\n",
    " for inputs, labels in testloader:\n",
    "  inputs, labels = inputs.to(device), labels.to(device) # move the inputs and labels to the device\n",
    "  outputs = model(inputs) # forward pass: compute model predictions\n",
    "  _, preds = torch.max(outputs, 1) # get the predicted class index\n",
    "  all_preds.extend(preds.cpu().numpy()) # store the predictions\n",
    "  all_labels.extend(labels.cpu().numpy()) # store the labels\n",
    "\n",
    "# convert the predictions and labels to numpy arrays\n",
    "all_preds = np.array(all_preds)\n",
    "all_labels = np.array(all_labels)\n",
    "\n",
    "# generate and plot the confusion matrix\n",
    "conf_matrix = confusion_matrix(all_labels, all_preds, normalize='true')\n",
    "\n",
    "# plot the confusion matrix using plotly\n",
    "fig = ff.create_annotated_heatmap(z=conf_matrix, # data for the heatmap\n",
    "                                  x=classes, # x-axis labels\n",
    "                                  y=classes, # y-axis labels\n",
    "                                  colorscale='Viridis', # color scale for the heatmap\n",
    "                                  showscale=True) # show the color scale\n",
    "\n",
    "# update layout of the plot\n",
    "fig.update_layout(title_text='Confusion Matrix', # title of the plot\n",
    "                  xaxis=dict(title='Predicted labels'), # x-axis title\n",
    "                  yaxis=dict(title='True labels')) # y-axis title\n",
    "\n",
    "fig.show()\n",
    "\n",
    "# generate and print the classification report\n",
    "class_report = classification_report(all_labels, all_preds, target_names=classes)\n",
    "print(\"\\nClassification Report:\")\n",
    "print(class_report)"
   ]
  },
  {
   "cell_type": "code",
   "execution_count": 18,
   "metadata": {},
   "outputs": [
    {
     "data": {
      "image/png": "[encoded data removed]",
      "text/plain": [
       "<Figure size 1000x800 with 2 Axes>"
      ]
     },
     "metadata": {},
     "output_type": "display_data"
    }
   ],
   "source": [
    "import matplotlib.pyplot as plt\n",
    "import seaborn as sns\n",
    "from sklearn.metrics import confusion_matrix\n",
    "import numpy as np\n",
    "\n",
    "# we already have all_preds and all_labels\n",
    "\n",
    "# create the confusion matrix\n",
    "conf_matrix = confusion_matrix(all_labels, all_preds)\n",
    "\n",
    "# normalize the confusion matrix to show percentages\n",
    "conf_matrix_normalized = conf_matrix.astype('float') / conf_matrix.sum(axis=1)[:, np.newaxis]\n",
    "\n",
    "# plot the confusion matrix\n",
    "plt.figure(figsize=(10, 8))\n",
    "sns.heatmap(conf_matrix_normalized, annot=True, fmt=\".2%\", cmap=\"Blues\", xticklabels=classes, yticklabels=classes)\n",
    "plt.title(\"Normalized Confusion Matrix with Scores\")\n",
    "plt.xlabel(\"Predicted Labels\")\n",
    "plt.ylabel(\"True Labels\")\n",
    "plt.show()"
   ]
  },
  {
   "cell_type": "code",
   "execution_count": null,
   "metadata": {},
   "outputs": [],
   "source": []
  }
 ],
 "metadata": {
  "kernelspec": {
   "display_name": "venv1",
   "language": "python",
   "name": "python3"
  },
  "language_info": {
   "codemirror_mode": {
    "name": "ipython",
    "version": 3
   },
   "file_extension": ".py",
   "mimetype": "text/x-python",
   "name": "python",
   "nbconvert_exporter": "python",
   "pygments_lexer": "ipython3",
   "version": "3.12.3"
  }
 },
 "nbformat": 4,
 "nbformat_minor": 2
}
