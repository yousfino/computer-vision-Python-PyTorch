{
 "cells": [
  {
   "cell_type": "markdown",
   "metadata": {},
   "source": [
    "## Build Convolutional Neural Network from Scratch\n",
    "* 2 Convolution Layers (Followed by ReLU)\n",
    "* 2 Max Pooling Layers\n",
    "* 3 Fully Connected Layers"
   ]
  },
  {
   "cell_type": "code",
   "execution_count": 11,
   "metadata": {},
   "outputs": [],
   "source": [
    "import torch\n",
    "import torch.nn as nn\n",
    "import torch.nn.functional as F # provides activation functions and functions for tasks like pooling, normalization, and convolution layers, etc."
   ]
  },
  {
   "cell_type": "code",
   "execution_count": 12,
   "metadata": {},
   "outputs": [],
   "source": [
    "# Define CNN architecture\n",
    "class CNN(nn.Module): # nn.Module is the base class for all neural network modules in PyTorch\n",
    " def __init__(self):\n",
    "  # initialize the class as a subclass of nn.Module\n",
    "  super(CNN, self).__init__()\n",
    "  \n",
    "  # first convolutional layer\n",
    "  self.conv1 = nn.Conv2d(3, 6, 5) # input channels = 3, output channels = 6, kernel size = 5 (5x5 filter)\n",
    "  \n",
    "  # first max pooling layer\n",
    "  self.pool1 = nn.MaxPool2d(2, 2) # kernel size = 2, stride = 2\n",
    "  \n",
    "  # second convolutional layer\n",
    "  self.conv2 = nn.Conv2d(6, 16, 5) # input channels = 6, output channels = 16, kernel size = 5 (5x5 filter)\n",
    "  \n",
    "  # second max pooling layer\n",
    "  self.pool2 = nn.MaxPool2d(2, 2) # kernel size = 2, stride = 2\n",
    "  \n",
    "  # 3 fully connected layers\n",
    "  # linear transformation from 16*5*5 to 120\n",
    "  self.fc1 = nn.Linear(16 * 5 * 5, 120) # flatten the input, 16*5*5 input features, 120 output features\n",
    "  \n",
    "  # linear transformation from 120 to 84-dimensional space\n",
    "  self.fc2 = nn.Linear(120, 84) # 120 input features, 84 output features\n",
    "  \n",
    "  # linear transformation from 84 to 10-dimensional space (output classes)\n",
    "  self.fc3 = nn.Linear(84, 10) # 84 input features, 10 output features (number of classes)\n",
    "  \n",
    " def forward(self, x): # defines how the data flows through the network\n",
    "  # operation 1: first convolutional layer with ReLU activation and max pooling\n",
    "  x = self.conv1(x)\n",
    "  x = F.relu(x) # used to overcome the overfitting and vanishing gradient and increase the performance, sets negative values to zero and keeps positive values as they are, introducing non-linearity to the model to learn complex patterns\n",
    "  x = self.pool1(x)\n",
    "  \n",
    "  # operation 2: second convolutional layer with ReLU activation and max pooling\n",
    "  x = self.conv2(x)\n",
    "  x = F.relu(x)\n",
    "  x = self.pool2(x)\n",
    "  \n",
    "  # operation 3: flatten the data for the fully connected layers\n",
    "  x = x.view(-1, 16 * 5 * 5) # flattening x into 1-D tensor while preserving the total number of elements\n",
    "  \n",
    "  # operation 4: first fully connected layer with ReLU activation\n",
    "  x = self.fc1(x)\n",
    "  x = F.relu(x)\n",
    "  \n",
    "  # operation 5: second fully connected layer with ReLU activation\n",
    "  x = self.fc2(x)\n",
    "  x = F.relu(x)\n",
    "  \n",
    "  # operation 6: output layer (fully connected) with raw scores for each class\n",
    "  x = self.fc3(x)\n",
    "  \n",
    "  return x"
   ]
  },
  {
   "cell_type": "code",
   "execution_count": 13,
   "metadata": {},
   "outputs": [
    {
     "name": "stdout",
     "output_type": "stream",
     "text": [
      "CNN(\n",
      "  (conv1): Conv2d(3, 6, kernel_size=(5, 5), stride=(1, 1))\n",
      "  (pool1): MaxPool2d(kernel_size=2, stride=2, padding=0, dilation=1, ceil_mode=False)\n",
      "  (conv2): Conv2d(6, 16, kernel_size=(5, 5), stride=(1, 1))\n",
      "  (pool2): MaxPool2d(kernel_size=2, stride=2, padding=0, dilation=1, ceil_mode=False)\n",
      "  (fc1): Linear(in_features=400, out_features=120, bias=True)\n",
      "  (fc2): Linear(in_features=120, out_features=84, bias=True)\n",
      "  (fc3): Linear(in_features=84, out_features=10, bias=True)\n",
      ")\n"
     ]
    }
   ],
   "source": [
    "# create an instance of the CNN class\n",
    "model = CNN()\n",
    "print(model) # print the model architecture"
   ]
  },
  {
   "cell_type": "code",
   "execution_count": 14,
   "metadata": {},
   "outputs": [
    {
     "name": "stdout",
     "output_type": "stream",
     "text": [
      "==========================================================================================\n",
      "Layer (type:depth-idx)                   Output Shape              Param #\n",
      "==========================================================================================\n",
      "├─Conv2d: 1-1                            [-1, 6, 28, 28]           456\n",
      "├─MaxPool2d: 1-2                         [-1, 6, 14, 14]           --\n",
      "├─Conv2d: 1-3                            [-1, 16, 10, 10]          2,416\n",
      "├─MaxPool2d: 1-4                         [-1, 16, 5, 5]            --\n",
      "├─Linear: 1-5                            [-1, 120]                 48,120\n",
      "├─Linear: 1-6                            [-1, 84]                  10,164\n",
      "├─Linear: 1-7                            [-1, 10]                  850\n",
      "==========================================================================================\n",
      "Total params: 62,006\n",
      "Trainable params: 62,006\n",
      "Non-trainable params: 0\n",
      "Total mult-adds (M): 0.65\n",
      "==========================================================================================\n",
      "Input size (MB): 0.01\n",
      "Forward/backward pass size (MB): 0.05\n",
      "Params size (MB): 0.24\n",
      "Estimated Total Size (MB): 0.30\n",
      "==========================================================================================\n"
     ]
    },
    {
     "data": {
      "text/plain": [
       "==========================================================================================\n",
       "Layer (type:depth-idx)                   Output Shape              Param #\n",
       "==========================================================================================\n",
       "├─Conv2d: 1-1                            [-1, 6, 28, 28]           456\n",
       "├─MaxPool2d: 1-2                         [-1, 6, 14, 14]           --\n",
       "├─Conv2d: 1-3                            [-1, 16, 10, 10]          2,416\n",
       "├─MaxPool2d: 1-4                         [-1, 16, 5, 5]            --\n",
       "├─Linear: 1-5                            [-1, 120]                 48,120\n",
       "├─Linear: 1-6                            [-1, 84]                  10,164\n",
       "├─Linear: 1-7                            [-1, 10]                  850\n",
       "==========================================================================================\n",
       "Total params: 62,006\n",
       "Trainable params: 62,006\n",
       "Non-trainable params: 0\n",
       "Total mult-adds (M): 0.65\n",
       "==========================================================================================\n",
       "Input size (MB): 0.01\n",
       "Forward/backward pass size (MB): 0.05\n",
       "Params size (MB): 0.24\n",
       "Estimated Total Size (MB): 0.30\n",
       "=========================================================================================="
      ]
     },
     "execution_count": 14,
     "metadata": {},
     "output_type": "execute_result"
    }
   ],
   "source": [
    "from torchsummary import summary\n",
    "\n",
    "summary(model, (3, 32, 32)) # input shape: (3, 32, 32) - 3 channels, 32x32 image size"
   ]
  },
  {
   "cell_type": "markdown",
   "metadata": {},
   "source": [
    "## CIFAR10 Image Dataset and its Augmentation\n",
    "\n",
    "https://www.cs.toronto.edu/~kriz/cifar.html"
   ]
  },
  {
   "cell_type": "code",
   "execution_count": 15,
   "metadata": {},
   "outputs": [],
   "source": [
    "from torch.utils.data import DataLoader\n",
    "from torchvision import datasets, transforms\n",
    "\n",
    "# define the data transform for data augmentation, used to artificially increase the size of the training dataset by applying random transformations to the input images\n",
    "# transforms mitigate overfitting and improve the generalization of the model\n",
    "transform = transforms.Compose([transforms.RandomHorizontalFlip(),\n",
    "                                transforms.RandomRotation(10),\n",
    "                                transforms.RandomResizedCrop(32, scale=(0.8, 1.0), ratio=(1.0, 1.0)),\n",
    "                                transforms.ToTensor(),\n",
    "                                transforms.Normalize((0.5, 0.5, 0.5), (0.5, 0.5, 0.5))])"
   ]
  },
  {
   "cell_type": "code",
   "execution_count": 16,
   "metadata": {},
   "outputs": [
    {
     "name": "stdout",
     "output_type": "stream",
     "text": [
      "Files already downloaded and verified\n",
      "Files already downloaded and verified\n"
     ]
    }
   ],
   "source": [
    "# load the data\n",
    "# train data\n",
    "trainset = datasets.CIFAR10(root='./data', train=True, download=True, transform=transform)\n",
    "trainloader = DataLoader(trainset, batch_size=4, shuffle=True, num_workers=2) # iterate over the training dataset in batches of 4, shuffle the data, and use 2 subprocesses for data loading\n",
    "\n",
    "# test data\n",
    "testdata = datasets.CIFAR10(root='./data', train=False, download=True, transform=transform)\n",
    "testloader = DataLoader(testdata, batch_size=4, shuffle=False, num_workers=2)\n",
    "\n",
    "# CIFAR-10 classes\n",
    "classes = ('plane', 'car', 'bird', 'cat', 'deer', 'dog', 'frog', 'horse', 'ship', 'truck')"
   ]
  },
  {
   "cell_type": "code",
   "execution_count": 17,
   "metadata": {},
   "outputs": [
    {
     "name": "stdout",
     "output_type": "stream",
     "text": [
      "trainset length: 50000\n",
      "testset length: 10000\n"
     ]
    }
   ],
   "source": [
    "# print the lengths of the train and test datasets\n",
    "print(\"trainset length:\", len(trainset))\n",
    "print(\"testset length:\", len(testdata))"
   ]
  },
  {
   "cell_type": "markdown",
   "metadata": {},
   "source": [
    "## Hyperparameters Optimization"
   ]
  },
  {
   "cell_type": "code",
   "execution_count": 18,
   "metadata": {},
   "outputs": [],
   "source": [
    "import torch.optim as optim\n",
    "\n",
    "# define the loss function\n",
    "criterion = nn.CrossEntropyLoss() # computes the softmax cross-entropy loss\n",
    "\n",
    "# define the optimizer\n",
    "optimizer = optim.Adam(model.parameters(), lr=0.001) # Adam optimizer with a learning rate of 0.001"
   ]
  },
  {
   "cell_type": "markdown",
   "metadata": {},
   "source": [
    "## CNN Training"
   ]
  },
  {
   "cell_type": "code",
   "execution_count": 19,
   "metadata": {},
   "outputs": [
    {
     "name": "stdout",
     "output_type": "stream",
     "text": [
      "Epoch 1/10, loss: 1.6046418153876065, accuracy: 0.41363999247550964\n",
      "Epoch 2/10, loss: 1.3921243370115757, accuracy: 0.4992799758911133\n",
      "Epoch 3/10, loss: 1.317596959642172, accuracy: 0.5331599712371826\n",
      "Epoch 4/10, loss: 1.2786741306138039, accuracy: 0.547980010509491\n",
      "Epoch 5/10, loss: 1.2534871496784687, accuracy: 0.5591399669647217\n",
      "Epoch 6/10, loss: 1.2333808295731246, accuracy: 0.569159984588623\n",
      "Epoch 7/10, loss: 1.216415136861503, accuracy: 0.5753399729728699\n",
      "Epoch 8/10, loss: 1.2027863063238562, accuracy: 0.5783199667930603\n",
      "Epoch 9/10, loss: 1.1970383723668754, accuracy: 0.583359956741333\n",
      "Epoch 10/10, loss: 1.1826160842067748, accuracy: 0.5868200063705444\n"
     ]
    }
   ],
   "source": [
    "# check if GPU is available\n",
    "device = torch.device(\"cuda\" if torch.cuda.is_available() else \"cpu\")\n",
    "\n",
    "# move the model to the device\n",
    "model.to(device)\n",
    "\n",
    "# training loop\n",
    "for epoch in range(10):\n",
    " train_loss = 0.0 # initialize the training loss\n",
    " train_acc = 0.0 # initialize the training accuracy\n",
    " \n",
    " model.train() # set the model to training mode\n",
    " \n",
    " # iterate over the training data\n",
    " for i, (inputs, labels) in enumerate(trainloader):\n",
    "  # move inputs and labels to the device\n",
    "  inputs, labels = inputs.to(device), labels.to(device)\n",
    "  \n",
    "  # zero the parameter gradients\n",
    "  optimizer.zero_grad()\n",
    "  \n",
    "  # forward pass\n",
    "  outputs = model(inputs)\n",
    "  \n",
    "  # calculate the loss\n",
    "  loss = criterion(outputs, labels)\n",
    "  \n",
    "  # backward pass\n",
    "  loss.backward()\n",
    "  \n",
    "  # optimize\n",
    "  optimizer.step()\n",
    "  \n",
    "  # calculate the training loss\n",
    "  train_loss += loss.item()\n",
    "  \n",
    "  # calculate the training accuracy\n",
    "  _, preds = torch.max(outputs, 1)\n",
    "  train_acc += (preds == labels).float().mean()\n",
    "  \n",
    " train_loss /= i + 1 # calculate the average training loss\n",
    " train_acc /= i + 1 # calculate the average training accuracy\n",
    " \n",
    " # print the training loss and accuracy\n",
    " print(f\"Epoch {epoch + 1}/{10}, loss: {train_loss}, accuracy: {train_acc}\")"
   ]
  },
  {
   "cell_type": "markdown",
   "metadata": {},
   "source": [
    "## Performance Metrics\n",
    "accuracy = (TP + TN) / (TP + TN + FP + FN)\n",
    "TP: True Positive\n",
    "TN: True Negative\n",
    "FP: False Positive\n",
    "FN: False Negative\n",
    "\n",
    "Suppose a model predicts whether a patient has a specific disease or not:\n",
    "\n",
    "TP = model predicts that the patient has the disease, and the patient actually has the disease\n",
    "TN = model predicts that the patient does not have the disease, and the patient actually does not have the disease\n",
    "FP = model predicts that the patient has the disease, but the patient actually does not have the disease\n",
    "FN = model predicts that the patient does not have the disease, but the patient actually has the disease\n",
    "\n",
    "precision = TP / (TP + FP)\n",
    "\n",
    "recall = TP / (TP + FN)\n",
    "\n",
    "F1 score = 2 * (precision * recall) / (precision + recall)"
   ]
  },
  {
   "cell_type": "markdown",
   "metadata": {},
   "source": [
    "## CNN Testing"
   ]
  },
  {
   "cell_type": "code",
   "execution_count": 20,
   "metadata": {},
   "outputs": [
    {
     "name": "stdout",
     "output_type": "stream",
     "text": [
      "Test accuracy: 58.1 %\n"
     ]
    }
   ],
   "source": [
    "# validate the model on the test data\n",
    "with torch.no_grad(): # disable gradient calculation to speed up the process\n",
    " correct = 0 # initialize the number of correct predictions\n",
    " total = 0\n",
    " for images, labels in testloader: # iterate over the test data\n",
    "  images, labels = images.to(device), labels.to(device) # move the images and labels to the device\n",
    "  outputs = model(images) # forward pass: compute model predictions\n",
    "  _, predicted = torch.max(outputs.data, 1) # get the predicted class index\n",
    "  total += labels.size(0) # increment the total count by the batch size\n",
    "  correct += (predicted == labels).sum().item() # count the number of correct predictions in the batch\n",
    " \n",
    " # print the test accuracy\n",
    " print(f\"Test accuracy: {100 * correct / total} %\")"
   ]
  },
  {
   "cell_type": "markdown",
   "metadata": {},
   "source": [
    "## Confusion Matrix, Recall, Precision, and F1 Score"
   ]
  },
  {
   "cell_type": "code",
   "execution_count": 22,
   "metadata": {},
   "outputs": [
    {
     "data": {
      "application/vnd.plotly.v1+json": {
       "config": {
        "plotlyServerURL": "https://plot.ly"
       },
       "data": [
        {
         "colorscale": [
          [
           0,
           "#440154"
          ],
          [
           0.1111111111111111,
           "#482878"
          ],
          [
           0.2222222222222222,
           "#3e4989"
          ],
          [
           0.3333333333333333,
           "#31688e"
          ],
          [
           0.4444444444444444,
           "#26828e"
          ],
          [
           0.5555555555555556,
           "#1f9e89"
          ],
          [
           0.6666666666666666,
           "#35b779"
          ],
          [
           0.7777777777777778,
           "#6ece58"
          ],
          [
           0.8888888888888888,
           "#b5de2b"
          ],
          [
           1,
           "#fde725"
          ]
         ],
         "reversescale": false,
         "showscale": true,
         "type": "heatmap",
         "x": [
          "plane",
          "car",
          "bird",
          "cat",
          "deer",
          "dog",
          "frog",
          "horse",
          "ship",
          "truck"
         ],
         "y": [
          "plane",
          "car",
          "bird",
          "cat",
          "deer",
          "dog",
          "frog",
          "horse",
          "ship",
          "truck"
         ],
         "z": {
          "bdata": "GQRWDi2y4T97FK5H4XqkP1g5tMh2vp8/nMQgsHJokT/8qfHSTWKgP/p+arx0k3g/ukkMAiuHhj+cxCCwcmiRP9nO91Pjpcs/g8DKoUW2sz/8qfHSTWKgP1CNl24Sg+g//Knx0k1iYD956SYxCKx8P/yp8dJNYoA//Knx0k1icD/8qfHSTWJwP/p+arx0k2g/TDeJQWDlsD/ZzvdT46W7P1pkO99Pjbc/nMQgsHJokT8ZBFYOLbLVP/yp8dJNYrA/001iEFg5xD8CK4cW2c63P+F6FK5H4bo/2c73U+Olqz85tMh2vp+qPzm0yHa+n5o/WmQ730+Nlz85tMh2vp+aP7pJDAIrh6Y/001iEFg51D/y0k1iEFi5Pzm0yHa+n8o/sp3vp8ZLtz/LoUW28/20P4lBYOXQIqs/GQRWDi2yrT85tMh2vp+aP3sUrkfheoQ/ukkMAiuHpj+JQWDl0CKrP8l2vp8aL+E/i2zn+6nxoj/Jdr6fGi+9P0w3iUFg5cA/mpmZmZmZmT+6SQwCK4eWPzvfT42XboI/+n5qvHSTiD97FK5H4XqkP3sUrkfhesQ/001iEFg5tD+28/3UeOneP0oMAiuHFqk/mpmZmZmZuT/8qfHSTWKgPzvfT42XbqI/+n5qvHSTiD/8qfHSTWKQP3sUrkfhepQ/VOOlm8QgsD8730+Nl26yP+xRuB6F66E/YOXQItv55j8730+Nl26SP7gehetRuI4/WDm0yHa+nz+cxCCwcmiRP7pJDAIrh4Y/2/l+arx0kz/8qfHSTWKgP2q8dJMYBLY/y6FFtvP9tD+4HoXrUbiOPx+F61G4HuU/ObTIdr6fij+kcD0K16OwP6RwPQrXo7A/2c73U+Olqz97FK5H4Xp0P/yp8dJNYoA//Knx0k1ikD97FK5H4XqEP3sUrkfheoQ/O99PjZdugj+iRbbz/dToP6rx0k1iEKg/mpmZmZmZmT+yne+nxkvHP/p+arx0k2g/ObTIdr6fij+6SQwCK4eGPzvfT42XboI/uB6F61G4jj+cxCCwcmiRP1pkO99Pjac/7nw/NV665T8=",
          "dtype": "f8",
          "shape": "10, 10"
         }
        }
       ],
       "layout": {
        "annotations": [
         {
          "font": {
           "color": "#000000"
          },
          "showarrow": false,
          "text": "0.553",
          "x": "plane",
          "xref": "x",
          "y": "plane",
          "yref": "y"
         },
         {
          "font": {
           "color": "#FFFFFF"
          },
          "showarrow": false,
          "text": "0.04",
          "x": "car",
          "xref": "x",
          "y": "plane",
          "yref": "y"
         },
         {
          "font": {
           "color": "#FFFFFF"
          },
          "showarrow": false,
          "text": "0.031",
          "x": "bird",
          "xref": "x",
          "y": "plane",
          "yref": "y"
         },
         {
          "font": {
           "color": "#FFFFFF"
          },
          "showarrow": false,
          "text": "0.017",
          "x": "cat",
          "xref": "x",
          "y": "plane",
          "yref": "y"
         },
         {
          "font": {
           "color": "#FFFFFF"
          },
          "showarrow": false,
          "text": "0.032",
          "x": "deer",
          "xref": "x",
          "y": "plane",
          "yref": "y"
         },
         {
          "font": {
           "color": "#FFFFFF"
          },
          "showarrow": false,
          "text": "0.006",
          "x": "dog",
          "xref": "x",
          "y": "plane",
          "yref": "y"
         },
         {
          "font": {
           "color": "#FFFFFF"
          },
          "showarrow": false,
          "text": "0.011",
          "x": "frog",
          "xref": "x",
          "y": "plane",
          "yref": "y"
         },
         {
          "font": {
           "color": "#FFFFFF"
          },
          "showarrow": false,
          "text": "0.017",
          "x": "horse",
          "xref": "x",
          "y": "plane",
          "yref": "y"
         },
         {
          "font": {
           "color": "#FFFFFF"
          },
          "showarrow": false,
          "text": "0.216",
          "x": "ship",
          "xref": "x",
          "y": "plane",
          "yref": "y"
         },
         {
          "font": {
           "color": "#FFFFFF"
          },
          "showarrow": false,
          "text": "0.077",
          "x": "truck",
          "xref": "x",
          "y": "plane",
          "yref": "y"
         },
         {
          "font": {
           "color": "#FFFFFF"
          },
          "showarrow": false,
          "text": "0.032",
          "x": "plane",
          "xref": "x",
          "y": "car",
          "yref": "y"
         },
         {
          "font": {
           "color": "#000000"
          },
          "showarrow": false,
          "text": "0.766",
          "x": "car",
          "xref": "x",
          "y": "car",
          "yref": "y"
         },
         {
          "font": {
           "color": "#FFFFFF"
          },
          "showarrow": false,
          "text": "0.002",
          "x": "bird",
          "xref": "x",
          "y": "car",
          "yref": "y"
         },
         {
          "font": {
           "color": "#FFFFFF"
          },
          "showarrow": false,
          "text": "0.007",
          "x": "cat",
          "xref": "x",
          "y": "car",
          "yref": "y"
         },
         {
          "font": {
           "color": "#FFFFFF"
          },
          "showarrow": false,
          "text": "0.008",
          "x": "deer",
          "xref": "x",
          "y": "car",
          "yref": "y"
         },
         {
          "font": {
           "color": "#FFFFFF"
          },
          "showarrow": false,
          "text": "0.004",
          "x": "dog",
          "xref": "x",
          "y": "car",
          "yref": "y"
         },
         {
          "font": {
           "color": "#FFFFFF"
          },
          "showarrow": false,
          "text": "0.004",
          "x": "frog",
          "xref": "x",
          "y": "car",
          "yref": "y"
         },
         {
          "font": {
           "color": "#FFFFFF"
          },
          "showarrow": false,
          "text": "0.003",
          "x": "horse",
          "xref": "x",
          "y": "car",
          "yref": "y"
         },
         {
          "font": {
           "color": "#FFFFFF"
          },
          "showarrow": false,
          "text": "0.066",
          "x": "ship",
          "xref": "x",
          "y": "car",
          "yref": "y"
         },
         {
          "font": {
           "color": "#FFFFFF"
          },
          "showarrow": false,
          "text": "0.108",
          "x": "truck",
          "xref": "x",
          "y": "car",
          "yref": "y"
         },
         {
          "font": {
           "color": "#FFFFFF"
          },
          "showarrow": false,
          "text": "0.092",
          "x": "plane",
          "xref": "x",
          "y": "bird",
          "yref": "y"
         },
         {
          "font": {
           "color": "#FFFFFF"
          },
          "showarrow": false,
          "text": "0.017",
          "x": "car",
          "xref": "x",
          "y": "bird",
          "yref": "y"
         },
         {
          "font": {
           "color": "#FFFFFF"
          },
          "showarrow": false,
          "text": "0.339",
          "x": "bird",
          "xref": "x",
          "y": "bird",
          "yref": "y"
         },
         {
          "font": {
           "color": "#FFFFFF"
          },
          "showarrow": false,
          "text": "0.064",
          "x": "cat",
          "xref": "x",
          "y": "bird",
          "yref": "y"
         },
         {
          "font": {
           "color": "#FFFFFF"
          },
          "showarrow": false,
          "text": "0.158",
          "x": "deer",
          "xref": "x",
          "y": "bird",
          "yref": "y"
         },
         {
          "font": {
           "color": "#FFFFFF"
          },
          "showarrow": false,
          "text": "0.093",
          "x": "dog",
          "xref": "x",
          "y": "bird",
          "yref": "y"
         },
         {
          "font": {
           "color": "#FFFFFF"
          },
          "showarrow": false,
          "text": "0.105",
          "x": "frog",
          "xref": "x",
          "y": "bird",
          "yref": "y"
         },
         {
          "font": {
           "color": "#FFFFFF"
          },
          "showarrow": false,
          "text": "0.054",
          "x": "horse",
          "xref": "x",
          "y": "bird",
          "yref": "y"
         },
         {
          "font": {
           "color": "#FFFFFF"
          },
          "showarrow": false,
          "text": "0.052",
          "x": "ship",
          "xref": "x",
          "y": "bird",
          "yref": "y"
         },
         {
          "font": {
           "color": "#FFFFFF"
          },
          "showarrow": false,
          "text": "0.026",
          "x": "truck",
          "xref": "x",
          "y": "bird",
          "yref": "y"
         },
         {
          "font": {
           "color": "#FFFFFF"
          },
          "showarrow": false,
          "text": "0.023",
          "x": "plane",
          "xref": "x",
          "y": "cat",
          "yref": "y"
         },
         {
          "font": {
           "color": "#FFFFFF"
          },
          "showarrow": false,
          "text": "0.026",
          "x": "car",
          "xref": "x",
          "y": "cat",
          "yref": "y"
         },
         {
          "font": {
           "color": "#FFFFFF"
          },
          "showarrow": false,
          "text": "0.044",
          "x": "bird",
          "xref": "x",
          "y": "cat",
          "yref": "y"
         },
         {
          "font": {
           "color": "#FFFFFF"
          },
          "showarrow": false,
          "text": "0.316",
          "x": "cat",
          "xref": "x",
          "y": "cat",
          "yref": "y"
         },
         {
          "font": {
           "color": "#FFFFFF"
          },
          "showarrow": false,
          "text": "0.099",
          "x": "deer",
          "xref": "x",
          "y": "cat",
          "yref": "y"
         },
         {
          "font": {
           "color": "#FFFFFF"
          },
          "showarrow": false,
          "text": "0.208",
          "x": "dog",
          "xref": "x",
          "y": "cat",
          "yref": "y"
         },
         {
          "font": {
           "color": "#FFFFFF"
          },
          "showarrow": false,
          "text": "0.091",
          "x": "frog",
          "xref": "x",
          "y": "cat",
          "yref": "y"
         },
         {
          "font": {
           "color": "#FFFFFF"
          },
          "showarrow": false,
          "text": "0.082",
          "x": "horse",
          "xref": "x",
          "y": "cat",
          "yref": "y"
         },
         {
          "font": {
           "color": "#FFFFFF"
          },
          "showarrow": false,
          "text": "0.053",
          "x": "ship",
          "xref": "x",
          "y": "cat",
          "yref": "y"
         },
         {
          "font": {
           "color": "#FFFFFF"
          },
          "showarrow": false,
          "text": "0.058",
          "x": "truck",
          "xref": "x",
          "y": "cat",
          "yref": "y"
         },
         {
          "font": {
           "color": "#FFFFFF"
          },
          "showarrow": false,
          "text": "0.026",
          "x": "plane",
          "xref": "x",
          "y": "deer",
          "yref": "y"
         },
         {
          "font": {
           "color": "#FFFFFF"
          },
          "showarrow": false,
          "text": "0.01",
          "x": "car",
          "xref": "x",
          "y": "deer",
          "yref": "y"
         },
         {
          "font": {
           "color": "#FFFFFF"
          },
          "showarrow": false,
          "text": "0.044",
          "x": "bird",
          "xref": "x",
          "y": "deer",
          "yref": "y"
         },
         {
          "font": {
           "color": "#FFFFFF"
          },
          "showarrow": false,
          "text": "0.053",
          "x": "cat",
          "xref": "x",
          "y": "deer",
          "yref": "y"
         },
         {
          "font": {
           "color": "#000000"
          },
          "showarrow": false,
          "text": "0.537",
          "x": "deer",
          "xref": "x",
          "y": "deer",
          "yref": "y"
         },
         {
          "font": {
           "color": "#FFFFFF"
          },
          "showarrow": false,
          "text": "0.037",
          "x": "dog",
          "xref": "x",
          "y": "deer",
          "yref": "y"
         },
         {
          "font": {
           "color": "#FFFFFF"
          },
          "showarrow": false,
          "text": "0.114",
          "x": "frog",
          "xref": "x",
          "y": "deer",
          "yref": "y"
         },
         {
          "font": {
           "color": "#FFFFFF"
          },
          "showarrow": false,
          "text": "0.132",
          "x": "horse",
          "xref": "x",
          "y": "deer",
          "yref": "y"
         },
         {
          "font": {
           "color": "#FFFFFF"
          },
          "showarrow": false,
          "text": "0.025",
          "x": "ship",
          "xref": "x",
          "y": "deer",
          "yref": "y"
         },
         {
          "font": {
           "color": "#FFFFFF"
          },
          "showarrow": false,
          "text": "0.022",
          "x": "truck",
          "xref": "x",
          "y": "deer",
          "yref": "y"
         },
         {
          "font": {
           "color": "#FFFFFF"
          },
          "showarrow": false,
          "text": "0.009",
          "x": "plane",
          "xref": "x",
          "y": "dog",
          "yref": "y"
         },
         {
          "font": {
           "color": "#FFFFFF"
          },
          "showarrow": false,
          "text": "0.012",
          "x": "car",
          "xref": "x",
          "y": "dog",
          "yref": "y"
         },
         {
          "font": {
           "color": "#FFFFFF"
          },
          "showarrow": false,
          "text": "0.04",
          "x": "bird",
          "xref": "x",
          "y": "dog",
          "yref": "y"
         },
         {
          "font": {
           "color": "#FFFFFF"
          },
          "showarrow": false,
          "text": "0.16",
          "x": "cat",
          "xref": "x",
          "y": "dog",
          "yref": "y"
         },
         {
          "font": {
           "color": "#FFFFFF"
          },
          "showarrow": false,
          "text": "0.079",
          "x": "deer",
          "xref": "x",
          "y": "dog",
          "yref": "y"
         },
         {
          "font": {
           "color": "#000000"
          },
          "showarrow": false,
          "text": "0.483",
          "x": "dog",
          "xref": "x",
          "y": "dog",
          "yref": "y"
         },
         {
          "font": {
           "color": "#FFFFFF"
          },
          "showarrow": false,
          "text": "0.049",
          "x": "frog",
          "xref": "x",
          "y": "dog",
          "yref": "y"
         },
         {
          "font": {
           "color": "#FFFFFF"
          },
          "showarrow": false,
          "text": "0.1",
          "x": "horse",
          "xref": "x",
          "y": "dog",
          "yref": "y"
         },
         {
          "font": {
           "color": "#FFFFFF"
          },
          "showarrow": false,
          "text": "0.032",
          "x": "ship",
          "xref": "x",
          "y": "dog",
          "yref": "y"
         },
         {
          "font": {
           "color": "#FFFFFF"
          },
          "showarrow": false,
          "text": "0.036",
          "x": "truck",
          "xref": "x",
          "y": "dog",
          "yref": "y"
         },
         {
          "font": {
           "color": "#FFFFFF"
          },
          "showarrow": false,
          "text": "0.012",
          "x": "plane",
          "xref": "x",
          "y": "frog",
          "yref": "y"
         },
         {
          "font": {
           "color": "#FFFFFF"
          },
          "showarrow": false,
          "text": "0.016",
          "x": "car",
          "xref": "x",
          "y": "frog",
          "yref": "y"
         },
         {
          "font": {
           "color": "#FFFFFF"
          },
          "showarrow": false,
          "text": "0.02",
          "x": "bird",
          "xref": "x",
          "y": "frog",
          "yref": "y"
         },
         {
          "font": {
           "color": "#FFFFFF"
          },
          "showarrow": false,
          "text": "0.063",
          "x": "cat",
          "xref": "x",
          "y": "frog",
          "yref": "y"
         },
         {
          "font": {
           "color": "#FFFFFF"
          },
          "showarrow": false,
          "text": "0.072",
          "x": "deer",
          "xref": "x",
          "y": "frog",
          "yref": "y"
         },
         {
          "font": {
           "color": "#FFFFFF"
          },
          "showarrow": false,
          "text": "0.035",
          "x": "dog",
          "xref": "x",
          "y": "frog",
          "yref": "y"
         },
         {
          "font": {
           "color": "#000000"
          },
          "showarrow": false,
          "text": "0.718",
          "x": "frog",
          "xref": "x",
          "y": "frog",
          "yref": "y"
         },
         {
          "font": {
           "color": "#FFFFFF"
          },
          "showarrow": false,
          "text": "0.018",
          "x": "horse",
          "xref": "x",
          "y": "frog",
          "yref": "y"
         },
         {
          "font": {
           "color": "#FFFFFF"
          },
          "showarrow": false,
          "text": "0.015",
          "x": "ship",
          "xref": "x",
          "y": "frog",
          "yref": "y"
         },
         {
          "font": {
           "color": "#FFFFFF"
          },
          "showarrow": false,
          "text": "0.031",
          "x": "truck",
          "xref": "x",
          "y": "frog",
          "yref": "y"
         },
         {
          "font": {
           "color": "#FFFFFF"
          },
          "showarrow": false,
          "text": "0.017",
          "x": "plane",
          "xref": "x",
          "y": "horse",
          "yref": "y"
         },
         {
          "font": {
           "color": "#FFFFFF"
          },
          "showarrow": false,
          "text": "0.011",
          "x": "car",
          "xref": "x",
          "y": "horse",
          "yref": "y"
         },
         {
          "font": {
           "color": "#FFFFFF"
          },
          "showarrow": false,
          "text": "0.019",
          "x": "bird",
          "xref": "x",
          "y": "horse",
          "yref": "y"
         },
         {
          "font": {
           "color": "#FFFFFF"
          },
          "showarrow": false,
          "text": "0.032",
          "x": "cat",
          "xref": "x",
          "y": "horse",
          "yref": "y"
         },
         {
          "font": {
           "color": "#FFFFFF"
          },
          "showarrow": false,
          "text": "0.086",
          "x": "deer",
          "xref": "x",
          "y": "horse",
          "yref": "y"
         },
         {
          "font": {
           "color": "#FFFFFF"
          },
          "showarrow": false,
          "text": "0.082",
          "x": "dog",
          "xref": "x",
          "y": "horse",
          "yref": "y"
         },
         {
          "font": {
           "color": "#FFFFFF"
          },
          "showarrow": false,
          "text": "0.015",
          "x": "frog",
          "xref": "x",
          "y": "horse",
          "yref": "y"
         },
         {
          "font": {
           "color": "#000000"
          },
          "showarrow": false,
          "text": "0.66",
          "x": "horse",
          "xref": "x",
          "y": "horse",
          "yref": "y"
         },
         {
          "font": {
           "color": "#FFFFFF"
          },
          "showarrow": false,
          "text": "0.013",
          "x": "ship",
          "xref": "x",
          "y": "horse",
          "yref": "y"
         },
         {
          "font": {
           "color": "#FFFFFF"
          },
          "showarrow": false,
          "text": "0.065",
          "x": "truck",
          "xref": "x",
          "y": "horse",
          "yref": "y"
         },
         {
          "font": {
           "color": "#FFFFFF"
          },
          "showarrow": false,
          "text": "0.065",
          "x": "plane",
          "xref": "x",
          "y": "ship",
          "yref": "y"
         },
         {
          "font": {
           "color": "#FFFFFF"
          },
          "showarrow": false,
          "text": "0.054",
          "x": "car",
          "xref": "x",
          "y": "ship",
          "yref": "y"
         },
         {
          "font": {
           "color": "#FFFFFF"
          },
          "showarrow": false,
          "text": "0.005",
          "x": "bird",
          "xref": "x",
          "y": "ship",
          "yref": "y"
         },
         {
          "font": {
           "color": "#FFFFFF"
          },
          "showarrow": false,
          "text": "0.008",
          "x": "cat",
          "xref": "x",
          "y": "ship",
          "yref": "y"
         },
         {
          "font": {
           "color": "#FFFFFF"
          },
          "showarrow": false,
          "text": "0.016",
          "x": "deer",
          "xref": "x",
          "y": "ship",
          "yref": "y"
         },
         {
          "font": {
           "color": "#FFFFFF"
          },
          "showarrow": false,
          "text": "0.01",
          "x": "dog",
          "xref": "x",
          "y": "ship",
          "yref": "y"
         },
         {
          "font": {
           "color": "#FFFFFF"
          },
          "showarrow": false,
          "text": "0.01",
          "x": "frog",
          "xref": "x",
          "y": "ship",
          "yref": "y"
         },
         {
          "font": {
           "color": "#FFFFFF"
          },
          "showarrow": false,
          "text": "0.009",
          "x": "horse",
          "xref": "x",
          "y": "ship",
          "yref": "y"
         },
         {
          "font": {
           "color": "#000000"
          },
          "showarrow": false,
          "text": "0.776",
          "x": "ship",
          "xref": "x",
          "y": "ship",
          "yref": "y"
         },
         {
          "font": {
           "color": "#FFFFFF"
          },
          "showarrow": false,
          "text": "0.047",
          "x": "truck",
          "xref": "x",
          "y": "ship",
          "yref": "y"
         },
         {
          "font": {
           "color": "#FFFFFF"
          },
          "showarrow": false,
          "text": "0.025",
          "x": "plane",
          "xref": "x",
          "y": "truck",
          "yref": "y"
         },
         {
          "font": {
           "color": "#FFFFFF"
          },
          "showarrow": false,
          "text": "0.182",
          "x": "car",
          "xref": "x",
          "y": "truck",
          "yref": "y"
         },
         {
          "font": {
           "color": "#FFFFFF"
          },
          "showarrow": false,
          "text": "0.003",
          "x": "bird",
          "xref": "x",
          "y": "truck",
          "yref": "y"
         },
         {
          "font": {
           "color": "#FFFFFF"
          },
          "showarrow": false,
          "text": "0.013",
          "x": "cat",
          "xref": "x",
          "y": "truck",
          "yref": "y"
         },
         {
          "font": {
           "color": "#FFFFFF"
          },
          "showarrow": false,
          "text": "0.011",
          "x": "deer",
          "xref": "x",
          "y": "truck",
          "yref": "y"
         },
         {
          "font": {
           "color": "#FFFFFF"
          },
          "showarrow": false,
          "text": "0.009",
          "x": "dog",
          "xref": "x",
          "y": "truck",
          "yref": "y"
         },
         {
          "font": {
           "color": "#FFFFFF"
          },
          "showarrow": false,
          "text": "0.015",
          "x": "frog",
          "xref": "x",
          "y": "truck",
          "yref": "y"
         },
         {
          "font": {
           "color": "#FFFFFF"
          },
          "showarrow": false,
          "text": "0.017",
          "x": "horse",
          "xref": "x",
          "y": "truck",
          "yref": "y"
         },
         {
          "font": {
           "color": "#FFFFFF"
          },
          "showarrow": false,
          "text": "0.046",
          "x": "ship",
          "xref": "x",
          "y": "truck",
          "yref": "y"
         },
         {
          "font": {
           "color": "#000000"
          },
          "showarrow": false,
          "text": "0.679",
          "x": "truck",
          "xref": "x",
          "y": "truck",
          "yref": "y"
         }
        ],
        "template": {
         "data": {
          "bar": [
           {
            "error_x": {
             "color": "#2a3f5f"
            },
            "error_y": {
             "color": "#2a3f5f"
            },
            "marker": {
             "line": {
              "color": "#E5ECF6",
              "width": 0.5
             },
             "pattern": {
              "fillmode": "overlay",
              "size": 10,
              "solidity": 0.2
             }
            },
            "type": "bar"
           }
          ],
          "barpolar": [
           {
            "marker": {
             "line": {
              "color": "#E5ECF6",
              "width": 0.5
             },
             "pattern": {
              "fillmode": "overlay",
              "size": 10,
              "solidity": 0.2
             }
            },
            "type": "barpolar"
           }
          ],
          "carpet": [
           {
            "aaxis": {
             "endlinecolor": "#2a3f5f",
             "gridcolor": "white",
             "linecolor": "white",
             "minorgridcolor": "white",
             "startlinecolor": "#2a3f5f"
            },
            "baxis": {
             "endlinecolor": "#2a3f5f",
             "gridcolor": "white",
             "linecolor": "white",
             "minorgridcolor": "white",
             "startlinecolor": "#2a3f5f"
            },
            "type": "carpet"
           }
          ],
          "choropleth": [
           {
            "colorbar": {
             "outlinewidth": 0,
             "ticks": ""
            },
            "type": "choropleth"
           }
          ],
          "contour": [
           {
            "colorbar": {
             "outlinewidth": 0,
             "ticks": ""
            },
            "colorscale": [
             [
              0,
              "#0d0887"
             ],
             [
              0.1111111111111111,
              "#46039f"
             ],
             [
              0.2222222222222222,
              "#7201a8"
             ],
             [
              0.3333333333333333,
              "#9c179e"
             ],
             [
              0.4444444444444444,
              "#bd3786"
             ],
             [
              0.5555555555555556,
              "#d8576b"
             ],
             [
              0.6666666666666666,
              "#ed7953"
             ],
             [
              0.7777777777777778,
              "#fb9f3a"
             ],
             [
              0.8888888888888888,
              "#fdca26"
             ],
             [
              1,
              "#f0f921"
             ]
            ],
            "type": "contour"
           }
          ],
          "contourcarpet": [
           {
            "colorbar": {
             "outlinewidth": 0,
             "ticks": ""
            },
            "type": "contourcarpet"
           }
          ],
          "heatmap": [
           {
            "colorbar": {
             "outlinewidth": 0,
             "ticks": ""
            },
            "colorscale": [
             [
              0,
              "#0d0887"
             ],
             [
              0.1111111111111111,
              "#46039f"
             ],
             [
              0.2222222222222222,
              "#7201a8"
             ],
             [
              0.3333333333333333,
              "#9c179e"
             ],
             [
              0.4444444444444444,
              "#bd3786"
             ],
             [
              0.5555555555555556,
              "#d8576b"
             ],
             [
              0.6666666666666666,
              "#ed7953"
             ],
             [
              0.7777777777777778,
              "#fb9f3a"
             ],
             [
              0.8888888888888888,
              "#fdca26"
             ],
             [
              1,
              "#f0f921"
             ]
            ],
            "type": "heatmap"
           }
          ],
          "histogram": [
           {
            "marker": {
             "pattern": {
              "fillmode": "overlay",
              "size": 10,
              "solidity": 0.2
             }
            },
            "type": "histogram"
           }
          ],
          "histogram2d": [
           {
            "colorbar": {
             "outlinewidth": 0,
             "ticks": ""
            },
            "colorscale": [
             [
              0,
              "#0d0887"
             ],
             [
              0.1111111111111111,
              "#46039f"
             ],
             [
              0.2222222222222222,
              "#7201a8"
             ],
             [
              0.3333333333333333,
              "#9c179e"
             ],
             [
              0.4444444444444444,
              "#bd3786"
             ],
             [
              0.5555555555555556,
              "#d8576b"
             ],
             [
              0.6666666666666666,
              "#ed7953"
             ],
             [
              0.7777777777777778,
              "#fb9f3a"
             ],
             [
              0.8888888888888888,
              "#fdca26"
             ],
             [
              1,
              "#f0f921"
             ]
            ],
            "type": "histogram2d"
           }
          ],
          "histogram2dcontour": [
           {
            "colorbar": {
             "outlinewidth": 0,
             "ticks": ""
            },
            "colorscale": [
             [
              0,
              "#0d0887"
             ],
             [
              0.1111111111111111,
              "#46039f"
             ],
             [
              0.2222222222222222,
              "#7201a8"
             ],
             [
              0.3333333333333333,
              "#9c179e"
             ],
             [
              0.4444444444444444,
              "#bd3786"
             ],
             [
              0.5555555555555556,
              "#d8576b"
             ],
             [
              0.6666666666666666,
              "#ed7953"
             ],
             [
              0.7777777777777778,
              "#fb9f3a"
             ],
             [
              0.8888888888888888,
              "#fdca26"
             ],
             [
              1,
              "#f0f921"
             ]
            ],
            "type": "histogram2dcontour"
           }
          ],
          "mesh3d": [
           {
            "colorbar": {
             "outlinewidth": 0,
             "ticks": ""
            },
            "type": "mesh3d"
           }
          ],
          "parcoords": [
           {
            "line": {
             "colorbar": {
              "outlinewidth": 0,
              "ticks": ""
             }
            },
            "type": "parcoords"
           }
          ],
          "pie": [
           {
            "automargin": true,
            "type": "pie"
           }
          ],
          "scatter": [
           {
            "fillpattern": {
             "fillmode": "overlay",
             "size": 10,
             "solidity": 0.2
            },
            "type": "scatter"
           }
          ],
          "scatter3d": [
           {
            "line": {
             "colorbar": {
              "outlinewidth": 0,
              "ticks": ""
             }
            },
            "marker": {
             "colorbar": {
              "outlinewidth": 0,
              "ticks": ""
             }
            },
            "type": "scatter3d"
           }
          ],
          "scattercarpet": [
           {
            "marker": {
             "colorbar": {
              "outlinewidth": 0,
              "ticks": ""
             }
            },
            "type": "scattercarpet"
           }
          ],
          "scattergeo": [
           {
            "marker": {
             "colorbar": {
              "outlinewidth": 0,
              "ticks": ""
             }
            },
            "type": "scattergeo"
           }
          ],
          "scattergl": [
           {
            "marker": {
             "colorbar": {
              "outlinewidth": 0,
              "ticks": ""
             }
            },
            "type": "scattergl"
           }
          ],
          "scattermap": [
           {
            "marker": {
             "colorbar": {
              "outlinewidth": 0,
              "ticks": ""
             }
            },
            "type": "scattermap"
           }
          ],
          "scattermapbox": [
           {
            "marker": {
             "colorbar": {
              "outlinewidth": 0,
              "ticks": ""
             }
            },
            "type": "scattermapbox"
           }
          ],
          "scatterpolar": [
           {
            "marker": {
             "colorbar": {
              "outlinewidth": 0,
              "ticks": ""
             }
            },
            "type": "scatterpolar"
           }
          ],
          "scatterpolargl": [
           {
            "marker": {
             "colorbar": {
              "outlinewidth": 0,
              "ticks": ""
             }
            },
            "type": "scatterpolargl"
           }
          ],
          "scatterternary": [
           {
            "marker": {
             "colorbar": {
              "outlinewidth": 0,
              "ticks": ""
             }
            },
            "type": "scatterternary"
           }
          ],
          "surface": [
           {
            "colorbar": {
             "outlinewidth": 0,
             "ticks": ""
            },
            "colorscale": [
             [
              0,
              "#0d0887"
             ],
             [
              0.1111111111111111,
              "#46039f"
             ],
             [
              0.2222222222222222,
              "#7201a8"
             ],
             [
              0.3333333333333333,
              "#9c179e"
             ],
             [
              0.4444444444444444,
              "#bd3786"
             ],
             [
              0.5555555555555556,
              "#d8576b"
             ],
             [
              0.6666666666666666,
              "#ed7953"
             ],
             [
              0.7777777777777778,
              "#fb9f3a"
             ],
             [
              0.8888888888888888,
              "#fdca26"
             ],
             [
              1,
              "#f0f921"
             ]
            ],
            "type": "surface"
           }
          ],
          "table": [
           {
            "cells": {
             "fill": {
              "color": "#EBF0F8"
             },
             "line": {
              "color": "white"
             }
            },
            "header": {
             "fill": {
              "color": "#C8D4E3"
             },
             "line": {
              "color": "white"
             }
            },
            "type": "table"
           }
          ]
         },
         "layout": {
          "annotationdefaults": {
           "arrowcolor": "#2a3f5f",
           "arrowhead": 0,
           "arrowwidth": 1
          },
          "autotypenumbers": "strict",
          "coloraxis": {
           "colorbar": {
            "outlinewidth": 0,
            "ticks": ""
           }
          },
          "colorscale": {
           "diverging": [
            [
             0,
             "#8e0152"
            ],
            [
             0.1,
             "#c51b7d"
            ],
            [
             0.2,
             "#de77ae"
            ],
            [
             0.3,
             "#f1b6da"
            ],
            [
             0.4,
             "#fde0ef"
            ],
            [
             0.5,
             "#f7f7f7"
            ],
            [
             0.6,
             "#e6f5d0"
            ],
            [
             0.7,
             "#b8e186"
            ],
            [
             0.8,
             "#7fbc41"
            ],
            [
             0.9,
             "#4d9221"
            ],
            [
             1,
             "#276419"
            ]
           ],
           "sequential": [
            [
             0,
             "#0d0887"
            ],
            [
             0.1111111111111111,
             "#46039f"
            ],
            [
             0.2222222222222222,
             "#7201a8"
            ],
            [
             0.3333333333333333,
             "#9c179e"
            ],
            [
             0.4444444444444444,
             "#bd3786"
            ],
            [
             0.5555555555555556,
             "#d8576b"
            ],
            [
             0.6666666666666666,
             "#ed7953"
            ],
            [
             0.7777777777777778,
             "#fb9f3a"
            ],
            [
             0.8888888888888888,
             "#fdca26"
            ],
            [
             1,
             "#f0f921"
            ]
           ],
           "sequentialminus": [
            [
             0,
             "#0d0887"
            ],
            [
             0.1111111111111111,
             "#46039f"
            ],
            [
             0.2222222222222222,
             "#7201a8"
            ],
            [
             0.3333333333333333,
             "#9c179e"
            ],
            [
             0.4444444444444444,
             "#bd3786"
            ],
            [
             0.5555555555555556,
             "#d8576b"
            ],
            [
             0.6666666666666666,
             "#ed7953"
            ],
            [
             0.7777777777777778,
             "#fb9f3a"
            ],
            [
             0.8888888888888888,
             "#fdca26"
            ],
            [
             1,
             "#f0f921"
            ]
           ]
          },
          "colorway": [
           "#636efa",
           "#EF553B",
           "#00cc96",
           "#ab63fa",
           "#FFA15A",
           "#19d3f3",
           "#FF6692",
           "#B6E880",
           "#FF97FF",
           "#FECB52"
          ],
          "font": {
           "color": "#2a3f5f"
          },
          "geo": {
           "bgcolor": "white",
           "lakecolor": "white",
           "landcolor": "#E5ECF6",
           "showlakes": true,
           "showland": true,
           "subunitcolor": "white"
          },
          "hoverlabel": {
           "align": "left"
          },
          "hovermode": "closest",
          "mapbox": {
           "style": "light"
          },
          "paper_bgcolor": "white",
          "plot_bgcolor": "#E5ECF6",
          "polar": {
           "angularaxis": {
            "gridcolor": "white",
            "linecolor": "white",
            "ticks": ""
           },
           "bgcolor": "#E5ECF6",
           "radialaxis": {
            "gridcolor": "white",
            "linecolor": "white",
            "ticks": ""
           }
          },
          "scene": {
           "xaxis": {
            "backgroundcolor": "#E5ECF6",
            "gridcolor": "white",
            "gridwidth": 2,
            "linecolor": "white",
            "showbackground": true,
            "ticks": "",
            "zerolinecolor": "white"
           },
           "yaxis": {
            "backgroundcolor": "#E5ECF6",
            "gridcolor": "white",
            "gridwidth": 2,
            "linecolor": "white",
            "showbackground": true,
            "ticks": "",
            "zerolinecolor": "white"
           },
           "zaxis": {
            "backgroundcolor": "#E5ECF6",
            "gridcolor": "white",
            "gridwidth": 2,
            "linecolor": "white",
            "showbackground": true,
            "ticks": "",
            "zerolinecolor": "white"
           }
          },
          "shapedefaults": {
           "line": {
            "color": "#2a3f5f"
           }
          },
          "ternary": {
           "aaxis": {
            "gridcolor": "white",
            "linecolor": "white",
            "ticks": ""
           },
           "baxis": {
            "gridcolor": "white",
            "linecolor": "white",
            "ticks": ""
           },
           "bgcolor": "#E5ECF6",
           "caxis": {
            "gridcolor": "white",
            "linecolor": "white",
            "ticks": ""
           }
          },
          "title": {
           "x": 0.05
          },
          "xaxis": {
           "automargin": true,
           "gridcolor": "white",
           "linecolor": "white",
           "ticks": "",
           "title": {
            "standoff": 15
           },
           "zerolinecolor": "white",
           "zerolinewidth": 2
          },
          "yaxis": {
           "automargin": true,
           "gridcolor": "white",
           "linecolor": "white",
           "ticks": "",
           "title": {
            "standoff": 15
           },
           "zerolinecolor": "white",
           "zerolinewidth": 2
          }
         }
        },
        "title": {
         "text": "Confusion Matrix"
        },
        "xaxis": {
         "dtick": 1,
         "gridcolor": "rgb(0, 0, 0)",
         "side": "top",
         "ticks": "",
         "title": {
          "text": "Predicted labels"
         }
        },
        "yaxis": {
         "dtick": 1,
         "ticks": "",
         "ticksuffix": "  ",
         "title": {
          "text": "True labels"
         }
        }
       }
      }
     },
     "metadata": {},
     "output_type": "display_data"
    },
    {
     "name": "stdout",
     "output_type": "stream",
     "text": [
      "\n",
      "Classification Report:\n",
      "              precision    recall  f1-score   support\n",
      "\n",
      "       plane       0.65      0.55      0.60      1000\n",
      "         car       0.68      0.77      0.72      1000\n",
      "        bird       0.62      0.34      0.44      1000\n",
      "         cat       0.43      0.32      0.36      1000\n",
      "        deer       0.49      0.54      0.51      1000\n",
      "         dog       0.50      0.48      0.49      1000\n",
      "        frog       0.63      0.72      0.67      1000\n",
      "       horse       0.60      0.66      0.63      1000\n",
      "        ship       0.60      0.78      0.68      1000\n",
      "       truck       0.59      0.68      0.63      1000\n",
      "\n",
      "    accuracy                           0.58     10000\n",
      "   macro avg       0.58      0.58      0.57     10000\n",
      "weighted avg       0.58      0.58      0.57     10000\n",
      "\n"
     ]
    }
   ],
   "source": [
    "\n",
    "from sklearn.metrics import confusion_matrix, classification_report\n",
    "import plotly.figure_factory as ff # for visualization\n",
    "import numpy as np\n",
    "\n",
    "# evaluation loop\n",
    "model.eval() # set the model to evaluation mode\n",
    "all_preds = [] # list to store all predictions\n",
    "all_labels = [] # list to store all labels\n",
    "\n",
    "# iterate over the test data\n",
    "with torch.no_grad():\n",
    " for inputs, labels in testloader:\n",
    "  inputs, labels = inputs.to(device), labels.to(device) # move the inputs and labels to the device\n",
    "  outputs = model(inputs) # forward pass: compute model predictions\n",
    "  _, preds = torch.max(outputs, 1) # get the predicted class index\n",
    "  all_preds.extend(preds.cpu().numpy()) # store the predictions\n",
    "  all_labels.extend(labels.cpu().numpy()) # store the labels\n",
    "\n",
    "# convert the predictions and labels to numpy arrays\n",
    "all_preds = np.array(all_preds)\n",
    "all_labels = np.array(all_labels)\n",
    "\n",
    "# generate and plot the confusion matrix\n",
    "conf_matrix = confusion_matrix(all_labels, all_preds, normalize='true')\n",
    "\n",
    "# plot the confusion matrix using plotly\n",
    "fig = ff.create_annotated_heatmap(z=conf_matrix, # data for the heatmap\n",
    "                                  x=classes, # x-axis labels\n",
    "                                  y=classes, # y-axis labels\n",
    "                                  colorscale='Viridis', # color scale for the heatmap\n",
    "                                  showscale=True) # show the color scale\n",
    "\n",
    "# update layout of the plot\n",
    "fig.update_layout(title_text='Confusion Matrix', # title of the plot\n",
    "                  xaxis=dict(title='Predicted labels'), # x-axis title\n",
    "                  yaxis=dict(title='True labels')) # y-axis title\n",
    "\n",
    "fig.show()\n",
    "\n",
    "# generate and print the classification report\n",
    "class_report = classification_report(all_labels, all_preds, target_names=classes)\n",
    "print(\"\\nClassification Report:\")\n",
    "print(class_report)"
   ]
  },
  {
   "cell_type": "markdown",
   "metadata": {},
   "source": [
    "## Confusion Matrix with Seaborn & Matplotlib"
   ]
  },
  {
   "cell_type": "code",
   "execution_count": 23,
   "metadata": {},
   "outputs": [
    {
     "data": {
      "image/png": "[encoded data removed]",
      "text/plain": [
       "<Figure size 1000x800 with 2 Axes>"
      ]
     },
     "metadata": {},
     "output_type": "display_data"
    }
   ],
   "source": [
    "import matplotlib.pyplot as plt\n",
    "import seaborn as sns\n",
    "from sklearn.metrics import confusion_matrix\n",
    "import numpy as np\n",
    "\n",
    "# we already have all_preds and all_labels\n",
    "\n",
    "# create the confusion matrix\n",
    "conf_matrix = confusion_matrix(all_labels, all_preds)\n",
    "\n",
    "# normalize the confusion matrix to show percentages\n",
    "conf_matrix_normalized = conf_matrix.astype('float') / conf_matrix.sum(axis=1)[:, np.newaxis]\n",
    "\n",
    "# plot the confusion matrix\n",
    "plt.figure(figsize=(10, 8))\n",
    "sns.heatmap(conf_matrix_normalized, annot=True, fmt=\".2%\", cmap=\"Blues\", xticklabels=classes, yticklabels=classes)\n",
    "plt.title(\"Normalized Confusion Matrix with Scores\")\n",
    "plt.xlabel(\"Predicted Labels\")\n",
    "plt.ylabel(\"True Labels\")\n",
    "plt.show()"
   ]
  },
  {
   "cell_type": "code",
   "execution_count": null,
   "metadata": {},
   "outputs": [],
   "source": []
  }
 ],
 "metadata": {
  "kernelspec": {
   "display_name": "venv1",
   "language": "python",
   "name": "python3"
  },
  "language_info": {
   "codemirror_mode": {
    "name": "ipython",
    "version": 3
   },
   "file_extension": ".py",
   "mimetype": "text/x-python",
   "name": "python",
   "nbconvert_exporter": "python",
   "pygments_lexer": "ipython3",
   "version": "3.12.3"
  }
 },
 "nbformat": 4,
 "nbformat_minor": 2
}
